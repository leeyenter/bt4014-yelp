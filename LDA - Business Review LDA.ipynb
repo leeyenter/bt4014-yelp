{
 "cells": [
  {
   "cell_type": "markdown",
   "metadata": {},
   "source": [
    "# Build Corpus"
   ]
  },
  {
   "cell_type": "code",
   "execution_count": 1,
   "metadata": {
    "ExecuteTime": {
     "end_time": "2019-04-12T00:55:04.741167Z",
     "start_time": "2019-04-12T00:54:56.630548Z"
    }
   },
   "outputs": [
    {
     "data": {
      "application/vnd.jupyter.widget-view+json": {
       "model_id": "d9c18d6daa8749bd89f30a18d4b9c10c",
       "version_major": 2,
       "version_minor": 0
      },
      "text/plain": [
       "HBox(children=(IntProgress(value=1, bar_style='info', max=1), HTML(value='')))"
      ]
     },
     "metadata": {},
     "output_type": "display_data"
    },
    {
     "name": "stdout",
     "output_type": "stream",
     "text": [
      "\n"
     ]
    },
    {
     "name": "stderr",
     "output_type": "stream",
     "text": [
      "C:\\Users\\leeye\\Anaconda3\\lib\\site-packages\\gensim\\utils.py:1209: UserWarning: detected Windows; aliasing chunkize to chunkize_serial\n",
      "  warnings.warn(\"detected Windows; aliasing chunkize to chunkize_serial\")\n"
     ]
    }
   ],
   "source": [
    "import pandas as pd\n",
    "import pickle\n",
    "import spacy\n",
    "from tqdm import tqdm_notebook\n",
    "\n",
    "tqdm_notebook().pandas()\n",
    "nlp = spacy.load(\"en_core_web_sm\", disable=[\"parser\", \"ner\", \"textcat\"])\n",
    "nlp.vocab.add_flag(lambda s: s.lower() in spacy.lang.en.stop_words.STOP_WORDS, spacy.attrs.IS_STOP)\n",
    "\n",
    "import gensim\n",
    "\n",
    "from gensim.models.coherencemodel import CoherenceModel\n",
    "\n",
    "# skip = {'$', 'CD', \"POS\", \"BES\", \"ADD\", \"DT\", \"HVS\"}\n",
    "\n",
    "# def tokenise(text):\n",
    "#     if type(text) != str:\n",
    "#         return []\n",
    "#     text = text.replace(\"\\n\\n\", \".\").replace(\"\\n\", \".\").replace('.', '. ')\n",
    "#     while \"  \" in text:\n",
    "#         text = text.replace(\"  \", \" \")\n",
    "#     doc = nlp(text, disable=[\"parser\", \"ner\", \"textcat\"])\n",
    "#     tokens = [token.lemma_ for token in doc if (not token.is_stop and not token.is_punct and token.tag_ not in skip)]\n",
    "#     return tokens"
   ]
  },
  {
   "cell_type": "code",
   "execution_count": 17,
   "metadata": {
    "ExecuteTime": {
     "end_time": "2019-04-12T01:10:01.151341Z",
     "start_time": "2019-04-12T01:09:58.760117Z"
    }
   },
   "outputs": [
    {
     "data": {
      "application/vnd.jupyter.widget-view+json": {
       "model_id": "f34b038e578342418a9fd958559bda52",
       "version_major": 2,
       "version_minor": 0
      },
      "text/plain": [
       "HBox(children=(IntProgress(value=0, max=6919), HTML(value='')))"
      ]
     },
     "metadata": {},
     "output_type": "display_data"
    },
    {
     "name": "stdout",
     "output_type": "stream",
     "text": [
      "\n"
     ]
    }
   ],
   "source": [
    "business_name = \"In-n-Out Burger\"\n",
    "df = pd.read_parquet(\"data/\" + business_name + '_reviews.parquet')\n",
    "tokens = df.text.progress_apply(gensim.parsing.preprocess_string)\n",
    "tokens = list(tokens)"
   ]
  },
  {
   "cell_type": "code",
   "execution_count": 61,
   "metadata": {
    "ExecuteTime": {
     "end_time": "2019-04-11T16:34:34.904536Z",
     "start_time": "2019-04-11T16:34:34.902539Z"
    }
   },
   "outputs": [],
   "source": [
    "# dictionary = gensim.corpora.Dictionary.load(\"processed_data/dictionary\")\n",
    "# dictionary = gensim.corpora.Dictionary.load(\"processed_data/\" + business_name + \"_dictionary\")\n",
    "# dictionary.filter_extremes(no_below=20, no_above=0.5, keep_n = None)"
   ]
  },
  {
   "cell_type": "code",
   "execution_count": 18,
   "metadata": {
    "ExecuteTime": {
     "end_time": "2019-04-12T01:10:01.610077Z",
     "start_time": "2019-04-12T01:10:01.153604Z"
    }
   },
   "outputs": [
    {
     "data": {
      "application/vnd.jupyter.widget-view+json": {
       "model_id": "5e8ff4ec370647cfa979b19e2f852fa0",
       "version_major": 2,
       "version_minor": 0
      },
      "text/plain": [
       "HBox(children=(IntProgress(value=0, max=6919), HTML(value='')))"
      ]
     },
     "metadata": {},
     "output_type": "display_data"
    },
    {
     "name": "stdout",
     "output_type": "stream",
     "text": [
      "\n"
     ]
    }
   ],
   "source": [
    "dictionary = gensim.corpora.Dictionary(tokens)\n",
    "dictionary.filter_extremes(no_below=10, no_above=0.5, keep_n=None)\n",
    "# dictionary.save(\"processed_data/\"+business_name+\"_dictionary\")\n",
    "\n",
    "corpus = [0] * len(tokens)\n",
    "\n",
    "for i in tqdm_notebook(range(len(tokens))):\n",
    "    corpus[i] = dictionary.doc2bow(tokens[i])\n",
    "\n",
    "# with open(\"processed_data/\"+business_name+\"_corpus.pkl\", \"wb\") as f:\n",
    "#     pickle.dump(corpus, f)"
   ]
  },
  {
   "cell_type": "code",
   "execution_count": 63,
   "metadata": {
    "ExecuteTime": {
     "end_time": "2019-04-11T16:34:35.466034Z",
     "start_time": "2019-04-11T16:34:35.463080Z"
    }
   },
   "outputs": [],
   "source": [
    "# dictionary = gensim.corpora.Dictionary.load(\"processed_data/\" + business_name + \"_dictionary\")\n",
    "# with open(\"processed_data/\" + business_name + \"_corpus.pkl\", \"rb\") as f:\n",
    "#     corpus = pickle.load(f)"
   ]
  },
  {
   "cell_type": "markdown",
   "metadata": {
    "ExecuteTime": {
     "end_time": "2019-04-11T15:04:51.552262Z",
     "start_time": "2019-04-11T15:04:51.546278Z"
    }
   },
   "source": [
    "# Model Building & Evaluation"
   ]
  },
  {
   "cell_type": "code",
   "execution_count": 11,
   "metadata": {
    "ExecuteTime": {
     "end_time": "2019-04-12T01:08:14.835763Z",
     "start_time": "2019-04-12T01:08:14.832773Z"
    }
   },
   "outputs": [],
   "source": [
    "import random\n",
    "from tabulate import tabulate\n",
    "from IPython.display import display, HTML, Markdown"
   ]
  },
  {
   "cell_type": "code",
   "execution_count": 19,
   "metadata": {
    "ExecuteTime": {
     "end_time": "2019-04-12T01:10:10.923395Z",
     "start_time": "2019-04-12T01:10:10.918409Z"
    }
   },
   "outputs": [],
   "source": [
    "list_num_topics = [2, 3, 5, 8, 10]\n",
    "list_passes = [1, 5, 10, 15, 20]\n",
    "done = set()\n",
    "\n",
    "results = []\n",
    "for i in range(len(list_passes)):\n",
    "    results.append([\" \"] * len(list_num_topics))"
   ]
  },
  {
   "cell_type": "code",
   "execution_count": null,
   "metadata": {
    "ExecuteTime": {
     "start_time": "2019-04-12T01:10:20.715Z"
    }
   },
   "outputs": [
    {
     "name": "stdout",
     "output_type": "stream",
     "text": [
      "num topics: 5 , passes: 1 : 0.40685\n",
      "num topics: 3 , passes: 1 : 0.39361\n",
      "num topics: 3 , passes: 10 : 0.48892\n",
      "num topics: 2 , passes: 1 : 0.37219\n",
      "num topics: 5 , passes: 15 : 0.51645\n",
      "num topics: 3 , passes: 20 : 0.52528\n",
      "num topics: 2 , passes: 10 : 0.47263\n"
     ]
    }
   ],
   "source": [
    "while len(done) < len(list_num_topics) * len(list_passes) * 0.6:\n",
    "    topics_index = random.choice(range(len(list_num_topics)))\n",
    "    passes_index = random.choice(range(len(list_passes)))\n",
    "    num_topics = list_num_topics[topics_index]\n",
    "    passes = list_passes[passes_index]\n",
    "    tup = (num_topics, passes)\n",
    "    if tup in done:\n",
    "        continue\n",
    "    coherence = 0\n",
    "    num_tries = 1\n",
    "    for i in range(num_tries):\n",
    "        lda_model = gensim.models.ldamulticore.LdaMulticore(corpus=corpus,\n",
    "                                                            id2word=dictionary,\n",
    "                                                            num_topics=num_topics, \n",
    "                                                            random_state=i,\n",
    "                                                            chunksize=500,\n",
    "                                                            passes=passes,\n",
    "                                                            workers=3,\n",
    "                                                            per_word_topics=True)\n",
    "        cm = CoherenceModel(model=lda_model, texts=tokens, dictionary=dictionary, coherence='c_v')\n",
    "        coherence += cm.get_coherence()\n",
    "    done.add(tup)\n",
    "    coherence = round(coherence / num_tries, 5)\n",
    "    print(\"num topics:\", num_topics, \", passes:\", passes, \":\", coherence)\n",
    "    results[passes_index][topics_index] = coherence"
   ]
  },
  {
   "cell_type": "code",
   "execution_count": null,
   "metadata": {
    "ExecuteTime": {
     "start_time": "2019-04-12T01:10:22.594Z"
    }
   },
   "outputs": [],
   "source": [
    "display(Markdown(\"## \" + business_name))\n",
    "display(HTML(tabulate(results, tablefmt='html', headers=[str(x) + ' topics' for x in list_num_topics])))"
   ]
  },
  {
   "cell_type": "code",
   "execution_count": 104,
   "metadata": {
    "ExecuteTime": {
     "end_time": "2019-04-11T17:58:19.449168Z",
     "start_time": "2019-04-11T17:57:46.048369Z"
    }
   },
   "outputs": [],
   "source": [
    "lda_model = gensim.models.ldamulticore.LdaMulticore(corpus=corpus,\n",
    "                                                    id2word=dictionary,\n",
    "                                                    num_topics=5, \n",
    "                                                    random_state=1,\n",
    "                                                    chunksize=500,\n",
    "                                                    passes=10,\n",
    "                                                    workers=3,\n",
    "                                                    per_word_topics=True)"
   ]
  },
  {
   "cell_type": "code",
   "execution_count": 6,
   "metadata": {
    "ExecuteTime": {
     "end_time": "2019-04-12T00:59:18.614421Z",
     "start_time": "2019-04-12T00:59:18.603031Z"
    }
   },
   "outputs": [
    {
     "ename": "NameError",
     "evalue": "name 'model' is not defined",
     "output_type": "error",
     "traceback": [
      "\u001b[1;31m---------------------------------------------------------------------------\u001b[0m",
      "\u001b[1;31mNameError\u001b[0m                                 Traceback (most recent call last)",
      "\u001b[1;32m<ipython-input-6-7d6ac097a2c8>\u001b[0m in \u001b[0;36m<module>\u001b[1;34m\u001b[0m\n\u001b[1;32m----> 1\u001b[1;33m \u001b[0mmodel\u001b[0m\u001b[1;33m.\u001b[0m\u001b[0msave\u001b[0m\u001b[1;33m(\u001b[0m\u001b[1;34m'models/lda/'\u001b[0m \u001b[1;33m+\u001b[0m \u001b[0mbusiness_name\u001b[0m\u001b[1;33m)\u001b[0m\u001b[1;33m\u001b[0m\u001b[0m\n\u001b[0m",
      "\u001b[1;31mNameError\u001b[0m: name 'model' is not defined"
     ]
    }
   ],
   "source": [
    "lda_model.save('models/lda/' + business_name)"
   ]
  },
  {
   "cell_type": "markdown",
   "metadata": {},
   "source": [
    "# Display Model Topics"
   ]
  },
  {
   "cell_type": "code",
   "execution_count": 67,
   "metadata": {
    "ExecuteTime": {
     "end_time": "2019-04-11T16:35:07.242122Z",
     "start_time": "2019-04-11T16:35:07.239163Z"
    }
   },
   "outputs": [],
   "source": [
    "import re"
   ]
  },
  {
   "cell_type": "code",
   "execution_count": 68,
   "metadata": {
    "ExecuteTime": {
     "end_time": "2019-04-11T16:35:07.251099Z",
     "start_time": "2019-04-11T16:35:07.243119Z"
    }
   },
   "outputs": [],
   "source": [
    "# business_name = \"Shake Shack\"\n",
    "# lda_model = gensim.models.ldamulticore.LdaMulticore.load('models/lda/' + business_name)\n",
    "\n",
    "for _, text in lda_model.print_topics():\n",
    "#     print([x for x in text.split(' + ')])\n",
    "    print([re.findall('[a-z]+', x)[0] for x in text.split(' + ')])"
   ]
  }
 ],
 "metadata": {
  "kernelspec": {
   "display_name": "Python 3",
   "language": "python",
   "name": "python3"
  },
  "language_info": {
   "codemirror_mode": {
    "name": "ipython",
    "version": 3
   },
   "file_extension": ".py",
   "mimetype": "text/x-python",
   "name": "python",
   "nbconvert_exporter": "python",
   "pygments_lexer": "ipython3",
   "version": "3.6.6"
  },
  "toc": {
   "base_numbering": 1,
   "nav_menu": {},
   "number_sections": true,
   "sideBar": true,
   "skip_h1_title": false,
   "title_cell": "Table of Contents",
   "title_sidebar": "Contents",
   "toc_cell": false,
   "toc_position": {},
   "toc_section_display": true,
   "toc_window_display": false
  }
 },
 "nbformat": 4,
 "nbformat_minor": 2
}
