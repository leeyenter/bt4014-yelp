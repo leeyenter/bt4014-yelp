{
 "cells": [
  {
   "cell_type": "markdown",
   "metadata": {},
   "source": [
    "# Load the Data"
   ]
  },
  {
   "cell_type": "code",
   "execution_count": 1,
   "metadata": {
    "ExecuteTime": {
     "end_time": "2019-04-12T00:06:21.343165Z",
     "start_time": "2019-04-12T00:06:16.088016Z"
    }
   },
   "outputs": [
    {
     "data": {
      "application/vnd.jupyter.widget-view+json": {
       "model_id": "ad2296b2f175490482dc58829a942f68",
       "version_major": 2,
       "version_minor": 0
      },
      "text/plain": [
       "HBox(children=(IntProgress(value=1, bar_style='info', max=1), HTML(value='')))"
      ]
     },
     "metadata": {},
     "output_type": "display_data"
    },
    {
     "name": "stdout",
     "output_type": "stream",
     "text": [
      "\n"
     ]
    },
    {
     "name": "stderr",
     "output_type": "stream",
     "text": [
      "C:\\Users\\yenter\\Anaconda3\\lib\\site-packages\\gensim\\utils.py:1197: UserWarning: detected Windows; aliasing chunkize to chunkize_serial\n",
      "  warnings.warn(\"detected Windows; aliasing chunkize to chunkize_serial\")\n"
     ]
    }
   ],
   "source": [
    "import json\n",
    "import pickle\n",
    "\n",
    "import gensim\n",
    "from gensim.models import CoherenceModel\n",
    "from tqdm import tqdm_notebook\n",
    "\n",
    "tqdm_notebook().pandas()"
   ]
  },
  {
   "cell_type": "code",
   "execution_count": 2,
   "metadata": {
    "ExecuteTime": {
     "end_time": "2019-04-12T00:07:17.679992Z",
     "start_time": "2019-04-12T00:06:21.344167Z"
    }
   },
   "outputs": [],
   "source": [
    "with open(\"processed_data/token.json\") as f:\n",
    "    tokens = json.load(f)"
   ]
  },
  {
   "cell_type": "markdown",
   "metadata": {},
   "source": [
    "# Prepare Corpus and Dictionary"
   ]
  },
  {
   "cell_type": "code",
   "execution_count": 3,
   "metadata": {
    "ExecuteTime": {
     "end_time": "2019-04-11T18:32:30.730486Z",
     "start_time": "2019-04-11T18:32:30.727553Z"
    }
   },
   "outputs": [],
   "source": [
    "dictionary = gensim.corpora.Dictionary(tokens)\n",
    "dictionary.save(\"processed_data/dictionary\")\n",
    "\n",
    "len(dictionary)"
   ]
  },
  {
   "cell_type": "code",
   "execution_count": 3,
   "metadata": {
    "ExecuteTime": {
     "end_time": "2019-04-12T00:07:19.031373Z",
     "start_time": "2019-04-12T00:07:17.680957Z"
    }
   },
   "outputs": [],
   "source": [
    "# dictionary = gensim.corpora.Dictionary.load('processed_data/dictionary')\n",
    "dictionary.filter_extremes(no_below=20, no_above=0.5, keep_n=None)"
   ]
  },
  {
   "cell_type": "code",
   "execution_count": 5,
   "metadata": {
    "ExecuteTime": {
     "end_time": "2019-04-11T18:32:32.084917Z",
     "start_time": "2019-04-11T18:32:32.081921Z"
    }
   },
   "outputs": [],
   "source": [
    "corpus = [0] * len(tokens)\n",
    "\n",
    "for i in tqdm_notebook(range(len(tokens))):\n",
    "    corpus[i] = dictionary.doc2bow(tokens[i])\n",
    "\n",
    "with open(\"processed_data/corpus.json\", \"w\") as f:\n",
    "    json.dump(corpus, f)\n",
    "    \n",
    "with open(\"processed_data/corpus.pkl\", \"wb\") as f:\n",
    "    pickle.dump(corpus, f)"
   ]
  },
  {
   "cell_type": "code",
   "execution_count": 6,
   "metadata": {
    "ExecuteTime": {
     "end_time": "2019-04-11T18:32:32.096890Z",
     "start_time": "2019-04-11T18:32:32.085924Z"
    }
   },
   "outputs": [],
   "source": [
    "# with open(\"processed_data/corpus.json\") as f:\n",
    "#     corpus = json.load(f)\n",
    "\n",
    "# with open(\"processed_data/corpus.pkl\", \"rb\") as f:\n",
    "#     corpus = pickle.load(f)"
   ]
  },
  {
   "cell_type": "markdown",
   "metadata": {},
   "source": [
    "# Conduct Grid Search on LDA Models"
   ]
  },
  {
   "cell_type": "code",
   "execution_count": 8,
   "metadata": {
    "ExecuteTime": {
     "end_time": "2019-04-11T19:46:38.329430Z",
     "start_time": "2019-04-11T18:38:09.700413Z"
    }
   },
   "outputs": [
    {
     "name": "stdout",
     "output_type": "stream",
     "text": [
      "Num topics: 30\n",
      "    Coherence: 0.5299694323860216\n"
     ]
    }
   ],
   "source": [
    "for passes in [1, 4]:\n",
    "    for num_topics in [5, 10, 15, 20, 25, 30]:\n",
    "        print(\"Num topics:\", num_topics, \", passes:\", passes)\n",
    "        lda_model = gensim.models.ldamulticore.LdaMulticore(corpus=corpus,\n",
    "                                                            id2word=dictionary,\n",
    "                                                            num_topics=num_topics, \n",
    "                                                            random_state=1,\n",
    "                                                            chunksize=2000,\n",
    "                                                            passes=passes,\n",
    "                                                            workers=7,\n",
    "                                                            per_word_topics=True)\n",
    "\n",
    "        coherence = CoherenceModel(model=lda_model, texts=tokens, dictionary=dictionary, coherence='c_v').get_coherence()\n",
    "        print(\"    Coherence:\", coherence)\n",
    "        lda_model.save(\"models/lda/\"+str(passes)+\"-passes_\" + str(num_topics) + \"-topics\")"
   ]
  },
  {
   "cell_type": "markdown",
   "metadata": {
    "ExecuteTime": {
     "start_time": "2019-04-11T15:34:59.767Z"
    }
   },
   "source": [
    "| No. of topics | 1 pass | 4 passes |\n",
    "| ---- | ----- | ------|\n",
    "|  5 topics | 0.40667 | 0.40749 |\n",
    "| 10 topics | 0.43186 | 0.45273 |\n",
    "| 15 topics | 0.49410 | 0.50778 |\n",
    "| 20 topics | 0.51291 | 0.53482 |\n",
    "| 25 topics | 0.51477 | 0.53167 |\n",
    "| 30 topics | 0.52444 | 0.52997 |\n",
    "\n"
   ]
  },
  {
   "cell_type": "markdown",
   "metadata": {},
   "source": [
    "# Display Topics for Top Few Models"
   ]
  },
  {
   "cell_type": "code",
   "execution_count": 14,
   "metadata": {
    "ExecuteTime": {
     "end_time": "2019-04-12T00:41:14.363665Z",
     "start_time": "2019-04-12T00:41:14.361665Z"
    }
   },
   "outputs": [],
   "source": [
    "from tabulate import tabulate\n",
    "from IPython.display import display, HTML, Markdown\n",
    "import re"
   ]
  },
  {
   "cell_type": "code",
   "execution_count": 19,
   "metadata": {
    "ExecuteTime": {
     "end_time": "2019-04-12T00:45:08.459887Z",
     "start_time": "2019-04-12T00:45:07.806591Z"
    },
    "scrolled": false
   },
   "outputs": [
    {
     "data": {
      "text/markdown": [
       "# 4 passes, 20 topics"
      ],
      "text/plain": [
       "<IPython.core.display.Markdown object>"
      ]
     },
     "metadata": {},
     "output_type": "display_data"
    },
    {
     "data": {
      "text/html": [
       "<table>\n",
       "<thead>\n",
       "<tr><th>Term 1   </th><th>Term 2    </th><th>Term 3  </th><th>Term 4  </th><th>Term 5   </th><th>Term 6  </th><th>Term 7   </th><th>Term 8    </th><th>Term 9  </th><th>Term 10  </th></tr>\n",
       "</thead>\n",
       "<tbody>\n",
       "<tr><td>egas     </td><td>time      </td><td>kid     </td><td>play    </td><td>fun      </td><td>like    </td><td>go       </td><td>people    </td><td>get     </td><td>lot      </td></tr>\n",
       "<tr><td>coffee   </td><td>ice       </td><td>cream   </td><td>tea     </td><td>chocolate</td><td>like    </td><td>try      </td><td>drink     </td><td>flavor  </td><td>good     </td></tr>\n",
       "<tr><td>order    </td><td>wait      </td><td>food    </td><td>come    </td><td>time     </td><td>minute  </td><td>service  </td><td>table     </td><td>ask     </td><td>take     </td></tr>\n",
       "<tr><td>pizza    </td><td>good      </td><td>crust   </td><td>order   </td><td>delivery </td><td>ew      </td><td>airport  </td><td>slice     </td><td>izza    </td><td>flight   </td></tr>\n",
       "<tr><td>great    </td><td>food      </td><td>place   </td><td>service </td><td>good     </td><td>love    </td><td>friendly </td><td>amazing   </td><td>staff   </td><td>time     </td></tr>\n",
       "<tr><td>pour     </td><td>bike      </td><td>les     </td><td>que     </td><td>des      </td><td>une     </td><td>pas      </td><td>est       </td><td>mais    </td><td>qui      </td></tr>\n",
       "<tr><td>taco     </td><td>good      </td><td>chip    </td><td>mexican </td><td>salsa    </td><td>food    </td><td>bean     </td><td>order     </td><td>burrito </td><td>raman    </td></tr>\n",
       "<tr><td>car      </td><td>work      </td><td>service </td><td>company </td><td>come     </td><td>need    </td><td>fix      </td><td>time      </td><td>new     </td><td>guy      </td></tr>\n",
       "<tr><td>store    </td><td>shop      </td><td>find    </td><td>buy     </td><td>price    </td><td>location</td><td>item     </td><td>look      </td><td>like    </td><td>need     </td></tr>\n",
       "<tr><td>room     </td><td>stay      </td><td>hotel   </td><td>nice    </td><td>clean    </td><td>pool    </td><td>check    </td><td>class     </td><td>night   </td><td>bed      </td></tr>\n",
       "<tr><td>work     </td><td>great     </td><td>time    </td><td>staff   </td><td>care     </td><td>thank   </td><td>recommend</td><td>experience</td><td>dog     </td><td>feel     </td></tr>\n",
       "<tr><td>place    </td><td>like      </td><td>good    </td><td>review  </td><td>bad      </td><td>know    </td><td>go       </td><td>think     </td><td>star    </td><td>food     </td></tr>\n",
       "<tr><td>breakfast</td><td>egg       </td><td>good    </td><td>brunch  </td><td>cake     </td><td>toast   </td><td>pancake  </td><td>coffee    </td><td>donut   </td><td>bacon    </td></tr>\n",
       "<tr><td>sushi    </td><td>roll      </td><td>good    </td><td>fish    </td><td>food     </td><td>price   </td><td>buffet   </td><td>eat       </td><td>fresh   </td><td>like     </td></tr>\n",
       "<tr><td>hair     </td><td>nail      </td><td>time    </td><td>cut     </td><td>look     </td><td>get     </td><td>massage  </td><td>go        </td><td>salon   </td><td>come     </td></tr>\n",
       "<tr><td>fry      </td><td>burger    </td><td>good    </td><td>sandwich</td><td>chicken  </td><td>cheese  </td><td>order    </td><td>sauce     </td><td>like    </td><td>try      </td></tr>\n",
       "<tr><td>bar      </td><td>drink     </td><td>beer    </td><td>place   </td><td>good     </td><td>great   </td><td>night    </td><td>nice      </td><td>food    </td><td>like     </td></tr>\n",
       "<tr><td>tell     </td><td>say       </td><td>call    </td><td>customer</td><td>ask      </td><td>service </td><td>go       </td><td>time      </td><td>pay     </td><td>day      </td></tr>\n",
       "<tr><td>salad    </td><td>restaurant</td><td>dish    </td><td>steak   </td><td>good     </td><td>order   </td><td>meal     </td><td>menu      </td><td>dinner  </td><td>sauce    </td></tr>\n",
       "<tr><td>food     </td><td>chicken   </td><td>good    </td><td>dish    </td><td>order    </td><td>rice    </td><td>soup     </td><td>restaurant</td><td>noodle  </td><td>place    </td></tr>\n",
       "</tbody>\n",
       "</table>"
      ],
      "text/plain": [
       "<IPython.core.display.HTML object>"
      ]
     },
     "metadata": {},
     "output_type": "display_data"
    },
    {
     "data": {
      "text/markdown": [
       "# 4 passes, 25 topics"
      ],
      "text/plain": [
       "<IPython.core.display.Markdown object>"
      ]
     },
     "metadata": {},
     "output_type": "display_data"
    },
    {
     "data": {
      "text/html": [
       "<table>\n",
       "<thead>\n",
       "<tr><th>Term 1  </th><th>Term 2  </th><th>Term 3    </th><th>Term 4  </th><th>Term 5  </th><th>Term 6  </th><th>Term 7  </th><th>Term 8   </th><th>Term 9    </th><th>Term 10  </th></tr>\n",
       "</thead>\n",
       "<tbody>\n",
       "<tr><td>burger  </td><td>fry     </td><td>sandwich  </td><td>cheese  </td><td>good    </td><td>order   </td><td>like    </td><td>get      </td><td>try       </td><td>meat     </td></tr>\n",
       "<tr><td>hair    </td><td>great   </td><td>time      </td><td>thank   </td><td>look    </td><td>amazing </td><td>good    </td><td>go       </td><td>experience</td><td>want     </td></tr>\n",
       "<tr><td>sushi   </td><td>roll    </td><td>breakfast </td><td>egg     </td><td>fish    </td><td>order   </td><td>good    </td><td>come     </td><td>like      </td><td>brunch   </td></tr>\n",
       "<tr><td>dish    </td><td>steak   </td><td>restaurant</td><td>good    </td><td>meal    </td><td>dinner  </td><td>menu    </td><td>order    </td><td>salad     </td><td>rib      </td></tr>\n",
       "<tr><td>store   </td><td>buy     </td><td>shop      </td><td>find    </td><td>price   </td><td>item    </td><td>look    </td><td>selection</td><td>need      </td><td>like     </td></tr>\n",
       "<tr><td>pizza   </td><td>good    </td><td>order     </td><td>italian </td><td>salad   </td><td>sauce   </td><td>cheese  </td><td>pasta    </td><td>crust     </td><td>like     </td></tr>\n",
       "<tr><td>egas    </td><td>as      </td><td>car       </td><td>drive   </td><td>trip    </td><td>airport </td><td>ride    </td><td>time     </td><td>flight    </td><td>strip    </td></tr>\n",
       "<tr><td>bar     </td><td>drink   </td><td>beer      </td><td>good    </td><td>place   </td><td>great   </td><td>night   </td><td>nice     </td><td>music     </td><td>bartender</td></tr>\n",
       "<tr><td>cream   </td><td>ice     </td><td>chocolate </td><td>cake    </td><td>good    </td><td>try     </td><td>flavor  </td><td>dessert  </td><td>sweet     </td><td>like     </td></tr>\n",
       "<tr><td>chicken </td><td>sauce   </td><td>order     </td><td>good    </td><td>wing    </td><td>hicken  </td><td>fry     </td><td>salad    </td><td>try       </td><td>bowl     </td></tr>\n",
       "<tr><td>order   </td><td>wait    </td><td>food      </td><td>come    </td><td>time    </td><td>table   </td><td>minute  </td><td>ask      </td><td>service   </td><td>take     </td></tr>\n",
       "<tr><td>kid     </td><td>fun     </td><td>play      </td><td>time    </td><td>event   </td><td>love    </td><td>great   </td><td>old      </td><td>party     </td><td>year     </td></tr>\n",
       "<tr><td>like    </td><td>place   </td><td>go        </td><td>people  </td><td>know    </td><td>get     </td><td>time    </td><td>line     </td><td>think     </td><td>want     </td></tr>\n",
       "<tr><td>staff   </td><td>office  </td><td>class     </td><td>r       </td><td>time    </td><td>care    </td><td>feel    </td><td>need     </td><td>year      </td><td>work     </td></tr>\n",
       "<tr><td>tell    </td><td>say     </td><td>call      </td><td>customer</td><td>ask     </td><td>service </td><td>pay     </td><td>time     </td><td>go        </td><td>day      </td></tr>\n",
       "<tr><td>nail    </td><td>massage </td><td>clean     </td><td>get     </td><td>time    </td><td>place   </td><td>go      </td><td>wash     </td><td>come      </td><td>pedicure </td></tr>\n",
       "<tr><td>car     </td><td>work    </td><td>service   </td><td>need    </td><td>company </td><td>come    </td><td>time    </td><td>new      </td><td>great     </td><td>guy      </td></tr>\n",
       "<tr><td>pour    </td><td>les     </td><td>que       </td><td>des     </td><td>une     </td><td>pas     </td><td>est     </td><td>mais     </td><td>qui       </td><td>tr       </td></tr>\n",
       "<tr><td>good    </td><td>taco    </td><td>order     </td><td>food    </td><td>dish    </td><td>rice    </td><td>noodle  </td><td>soup     </td><td>chicken   </td><td>like     </td></tr>\n",
       "<tr><td>location</td><td>visit   </td><td>area      </td><td>live    </td><td>find    </td><td>year    </td><td>parking </td><td>locate   </td><td>open      </td><td>new      </td></tr>\n",
       "</tbody>\n",
       "</table>"
      ],
      "text/plain": [
       "<IPython.core.display.HTML object>"
      ]
     },
     "metadata": {},
     "output_type": "display_data"
    },
    {
     "data": {
      "text/markdown": [
       "# 4 passes, 30 topics"
      ],
      "text/plain": [
       "<IPython.core.display.Markdown object>"
      ]
     },
     "metadata": {},
     "output_type": "display_data"
    },
    {
     "data": {
      "text/html": [
       "<table>\n",
       "<thead>\n",
       "<tr><th>Term 1    </th><th>Term 2   </th><th>Term 3  </th><th>Term 4  </th><th>Term 5  </th><th>Term 6  </th><th>Term 7  </th><th>Term 8  </th><th>Term 9    </th><th>Term 10  </th></tr>\n",
       "</thead>\n",
       "<tbody>\n",
       "<tr><td>pizza     </td><td>car      </td><td>crust   </td><td>good    </td><td>drive   </td><td>oil     </td><td>vehicle </td><td>wash    </td><td>get       </td><td>izza     </td></tr>\n",
       "<tr><td>customer  </td><td>service  </td><td>say     </td><td>tell    </td><td>ask     </td><td>manager </td><td>bad     </td><td>go      </td><td>rude      </td><td>want     </td></tr>\n",
       "<tr><td>place     </td><td>food     </td><td>good    </td><td>like    </td><td>review  </td><td>star    </td><td>bad     </td><td>think   </td><td>price     </td><td>eat      </td></tr>\n",
       "<tr><td>salad     </td><td>sauce    </td><td>good    </td><td>cheese  </td><td>meat    </td><td>bread   </td><td>chicken </td><td>order   </td><td>potato    </td><td>rib      </td></tr>\n",
       "<tr><td>seat      </td><td>like     </td><td>music   </td><td>movie   </td><td>see     </td><td>love    </td><td>ticket  </td><td>feel    </td><td>show      </td><td>wall     </td></tr>\n",
       "<tr><td>sushi     </td><td>roll     </td><td>fish    </td><td>good    </td><td>fresh   </td><td>order   </td><td>crab    </td><td>shrimp  </td><td>eat       </td><td>come     </td></tr>\n",
       "<tr><td>bar       </td><td>drink    </td><td>beer    </td><td>place   </td><td>good    </td><td>great   </td><td>night   </td><td>nice    </td><td>bartender </td><td>like     </td></tr>\n",
       "<tr><td>location  </td><td>option   </td><td>parking </td><td>lot     </td><td>area    </td><td>find    </td><td>free    </td><td>vegan   </td><td>healthy   </td><td>fresh    </td></tr>\n",
       "<tr><td>card      </td><td>look     </td><td>dress   </td><td>help    </td><td>go      </td><td>walk    </td><td>like    </td><td>ask     </td><td>want      </td><td>bag      </td></tr>\n",
       "<tr><td>egas      </td><td>strip    </td><td>buffet  </td><td>as      </td><td>casino  </td><td>good    </td><td>trip    </td><td>price   </td><td>stay      </td><td>trip     </td></tr>\n",
       "<tr><td>coffee    </td><td>chocolate</td><td>cake    </td><td>good    </td><td>try     </td><td>like    </td><td>cookie  </td><td>sweet   </td><td>donut     </td><td>dessert  </td></tr>\n",
       "<tr><td>hair      </td><td>dog      </td><td>feel    </td><td>care    </td><td>time    </td><td>go      </td><td>r       </td><td>staff   </td><td>cut       </td><td>take     </td></tr>\n",
       "<tr><td>nail      </td><td>massage  </td><td>salon   </td><td>time    </td><td>get     </td><td>color   </td><td>go      </td><td>look    </td><td>job       </td><td>place    </td></tr>\n",
       "<tr><td>breakfast </td><td>sandwich </td><td>egg     </td><td>good    </td><td>brunch  </td><td>toast   </td><td>order   </td><td>bacon   </td><td>pancake   </td><td>menu     </td></tr>\n",
       "<tr><td>order     </td><td>food     </td><td>wait    </td><td>come    </td><td>table   </td><td>time    </td><td>minute  </td><td>service </td><td>take      </td><td>ask      </td></tr>\n",
       "<tr><td>restaurant</td><td>menu     </td><td>dinner  </td><td>wine    </td><td>meal    </td><td>dish    </td><td>steak   </td><td>food    </td><td>experience</td><td>dessert  </td></tr>\n",
       "<tr><td>noodle    </td><td>soup     </td><td>pork    </td><td>bowl    </td><td>wing    </td><td>good    </td><td>order   </td><td>sauce   </td><td>raman     </td><td>beef     </td></tr>\n",
       "<tr><td>room      </td><td>stay     </td><td>hotel   </td><td>pool    </td><td>nice    </td><td>clean   </td><td>check   </td><td>bed     </td><td>night     </td><td>bathroom </td></tr>\n",
       "<tr><td>fix       </td><td>come     </td><td>company </td><td>water   </td><td>clean   </td><td>replace </td><td>problem </td><td>airport </td><td>charge    </td><td>door     </td></tr>\n",
       "<tr><td>ice       </td><td>tea      </td><td>cream   </td><td>drink   </td><td>flavor  </td><td>like    </td><td>try     </td><td>taste   </td><td>place     </td><td>milk     </td></tr>\n",
       "</tbody>\n",
       "</table>"
      ],
      "text/plain": [
       "<IPython.core.display.HTML object>"
      ]
     },
     "metadata": {},
     "output_type": "display_data"
    },
    {
     "data": {
      "text/markdown": [
       "# 1 passes, 30 topics"
      ],
      "text/plain": [
       "<IPython.core.display.Markdown object>"
      ]
     },
     "metadata": {},
     "output_type": "display_data"
    },
    {
     "data": {
      "text/html": [
       "<table>\n",
       "<thead>\n",
       "<tr><th>Term 1    </th><th>Term 2  </th><th>Term 3   </th><th>Term 4   </th><th>Term 5  </th><th>Term 6  </th><th>Term 7  </th><th>Term 8      </th><th>Term 9  </th><th>Term 10  </th></tr>\n",
       "</thead>\n",
       "<tbody>\n",
       "<tr><td>pour      </td><td>les     </td><td>que      </td><td>des      </td><td>une     </td><td>est     </td><td>pas     </td><td>mais        </td><td>qui     </td><td>tr       </td></tr>\n",
       "<tr><td>tell      </td><td>say     </td><td>customer </td><td>service  </td><td>ask     </td><td>go      </td><td>manager </td><td>time        </td><td>call    </td><td>pay      </td></tr>\n",
       "<tr><td>work      </td><td>service </td><td>recommend</td><td>need     </td><td>time    </td><td>great   </td><td>thank   </td><td>professional</td><td>job     </td><td>good     </td></tr>\n",
       "<tr><td>nail      </td><td>massage </td><td>time     </td><td>get      </td><td>salon   </td><td>job     </td><td>pedicure</td><td>go          </td><td>place   </td><td>come     </td></tr>\n",
       "<tr><td>burger    </td><td>fry     </td><td>good     </td><td>cheese   </td><td>order   </td><td>like    </td><td>onion   </td><td>sandwich    </td><td>try     </td><td>get      </td></tr>\n",
       "<tr><td>breakfast </td><td>sandwich</td><td>egg      </td><td>good     </td><td>brunch  </td><td>order   </td><td>toast   </td><td>come        </td><td>bacon   </td><td>place    </td></tr>\n",
       "<tr><td>bowl      </td><td>noodle  </td><td>wing     </td><td>good     </td><td>sauce   </td><td>order   </td><td>pork    </td><td>raman       </td><td>like    </td><td>try      </td></tr>\n",
       "<tr><td>salad     </td><td>good    </td><td>sauce    </td><td>meat     </td><td>cheese  </td><td>bread   </td><td>rib     </td><td>potato      </td><td>chicken </td><td>like     </td></tr>\n",
       "<tr><td>restaurant</td><td>dinner  </td><td>menu     </td><td>wine     </td><td>good    </td><td>meal    </td><td>steak   </td><td>dessert     </td><td>dish    </td><td>food     </td></tr>\n",
       "<tr><td>line      </td><td>people  </td><td>get      </td><td>wait     </td><td>time    </td><td>like    </td><td>go      </td><td>long        </td><td>guy     </td><td>club     </td></tr>\n",
       "<tr><td>car       </td><td>buy     </td><td>shop     </td><td>new      </td><td>price   </td><td>vehicle </td><td>drive   </td><td>tire        </td><td>wash    </td><td>purchase </td></tr>\n",
       "<tr><td>location  </td><td>option  </td><td>store    </td><td>selection</td><td>price   </td><td>find    </td><td>lot     </td><td>place       </td><td>fresh   </td><td>vegan    </td></tr>\n",
       "<tr><td>music     </td><td>seat    </td><td>like     </td><td>movie    </td><td>see     </td><td>great   </td><td>good    </td><td>play        </td><td>ticket  </td><td>watch    </td></tr>\n",
       "<tr><td>great     </td><td>place   </td><td>food     </td><td>service  </td><td>good    </td><td>friendly</td><td>love    </td><td>staff       </td><td>amazing </td><td>recommend</td></tr>\n",
       "<tr><td>hair      </td><td>dog     </td><td>feel     </td><td>time     </td><td>go      </td><td>look    </td><td>cut     </td><td>good        </td><td>great   </td><td>get      </td></tr>\n",
       "<tr><td>egas      </td><td>as      </td><td>buffet   </td><td>strip    </td><td>good    </td><td>casino  </td><td>price   </td><td>trip        </td><td>worth   </td><td>cheap    </td></tr>\n",
       "<tr><td>taco      </td><td>good    </td><td>chip     </td><td>mexican  </td><td>salsa   </td><td>burrito </td><td>food    </td><td>order       </td><td>bean    </td><td>chicken  </td></tr>\n",
       "<tr><td>room      </td><td>hotel   </td><td>stay     </td><td>nice     </td><td>clean   </td><td>pool    </td><td>check   </td><td>bed         </td><td>area    </td><td>like     </td></tr>\n",
       "<tr><td>place     </td><td>food    </td><td>like     </td><td>good     </td><td>review  </td><td>bad     </td><td>star    </td><td>eat         </td><td>go      </td><td>think    </td></tr>\n",
       "<tr><td>sushi     </td><td>roll    </td><td>fish     </td><td>good     </td><td>order   </td><td>like    </td><td>come    </td><td>eat         </td><td>fresh   </td><td>taste    </td></tr>\n",
       "</tbody>\n",
       "</table>"
      ],
      "text/plain": [
       "<IPython.core.display.HTML object>"
      ]
     },
     "metadata": {},
     "output_type": "display_data"
    },
    {
     "data": {
      "text/markdown": [
       "# 1 passes, 25 topics"
      ],
      "text/plain": [
       "<IPython.core.display.Markdown object>"
      ]
     },
     "metadata": {},
     "output_type": "display_data"
    },
    {
     "data": {
      "text/html": [
       "<table>\n",
       "<thead>\n",
       "<tr><th>Term 1  </th><th>Term 2  </th><th>Term 3   </th><th>Term 4  </th><th>Term 5  </th><th>Term 6    </th><th>Term 7   </th><th>Term 8    </th><th>Term 9   </th><th>Term 10  </th></tr>\n",
       "</thead>\n",
       "<tbody>\n",
       "<tr><td>room    </td><td>hotel   </td><td>stay     </td><td>nice    </td><td>pool    </td><td>clean     </td><td>check    </td><td>egas      </td><td>night    </td><td>casino   </td></tr>\n",
       "<tr><td>store   </td><td>find    </td><td>price    </td><td>shop    </td><td>buy     </td><td>item      </td><td>selection</td><td>like      </td><td>good     </td><td>look     </td></tr>\n",
       "<tr><td>sushi   </td><td>roll    </td><td>order    </td><td>egg     </td><td>fish    </td><td>like      </td><td>good     </td><td>come      </td><td>eat      </td><td>taste    </td></tr>\n",
       "<tr><td>chicken </td><td>good    </td><td>food     </td><td>order   </td><td>dish    </td><td>rice      </td><td>soup     </td><td>place     </td><td>noodle   </td><td>come     </td></tr>\n",
       "<tr><td>work    </td><td>service </td><td>need     </td><td>great   </td><td>company </td><td>time      </td><td>recommend</td><td>come      </td><td>job      </td><td>fix      </td></tr>\n",
       "<tr><td>good    </td><td>salad   </td><td>dish     </td><td>steak   </td><td>meal    </td><td>order     </td><td>sauce    </td><td>restaurant</td><td>rib      </td><td>dinner   </td></tr>\n",
       "<tr><td>dog     </td><td>movie   </td><td>pet      </td><td>bike    </td><td>animal  </td><td>vet       </td><td>theater  </td><td>cat       </td><td>bring    </td><td>popcorn  </td></tr>\n",
       "<tr><td>cream   </td><td>ice     </td><td>chocolate</td><td>cake    </td><td>good    </td><td>try       </td><td>like     </td><td>flavor    </td><td>sweet    </td><td>dessert  </td></tr>\n",
       "<tr><td>order   </td><td>wait    </td><td>come     </td><td>food    </td><td>time    </td><td>ask       </td><td>minute   </td><td>table     </td><td>service  </td><td>take     </td></tr>\n",
       "<tr><td>tell    </td><td>say     </td><td>call     </td><td>ask     </td><td>customer</td><td>go        </td><td>time     </td><td>pay       </td><td>service  </td><td>day      </td></tr>\n",
       "<tr><td>line    </td><td>people  </td><td>like     </td><td>time    </td><td>wait    </td><td>get       </td><td>go       </td><td>place     </td><td>know     </td><td>long     </td></tr>\n",
       "<tr><td>great   </td><td>food    </td><td>service  </td><td>place   </td><td>good    </td><td>love      </td><td>friendly </td><td>amazing   </td><td>delicious</td><td>staff    </td></tr>\n",
       "<tr><td>taco    </td><td>good    </td><td>order    </td><td>chip    </td><td>chicken </td><td>sauce     </td><td>salsa    </td><td>wing      </td><td>like     </td><td>burrito  </td></tr>\n",
       "<tr><td>car     </td><td>drive   </td><td>wash     </td><td>vehicle </td><td>buy     </td><td>go        </td><td>get      </td><td>take      </td><td>oil      </td><td>change   </td></tr>\n",
       "<tr><td>staff   </td><td>class   </td><td>r        </td><td>office  </td><td>feel    </td><td>time      </td><td>care     </td><td>year      </td><td>go       </td><td>need     </td></tr>\n",
       "<tr><td>nail    </td><td>massage </td><td>get      </td><td>time    </td><td>go      </td><td>place     </td><td>like     </td><td>come      </td><td>look     </td><td>pedicure </td></tr>\n",
       "<tr><td>food    </td><td>good    </td><td>place    </td><td>service </td><td>price   </td><td>restaurant</td><td>like     </td><td>eat       </td><td>time     </td><td>star     </td></tr>\n",
       "<tr><td>kid     </td><td>like    </td><td>fun      </td><td>time    </td><td>dress   </td><td>play      </td><td>egas     </td><td>see       </td><td>old      </td><td>go       </td></tr>\n",
       "<tr><td>location</td><td>visit   </td><td>locate   </td><td>sum     </td><td>dim     </td><td>restaurant</td><td>hoenix   </td><td>area      </td><td>downtown </td><td>cottsdale</td></tr>\n",
       "<tr><td>pour    </td><td>les     </td><td>que      </td><td>des     </td><td>une     </td><td>pas       </td><td>est      </td><td>mais      </td><td>qui      </td><td>tr       </td></tr>\n",
       "</tbody>\n",
       "</table>"
      ],
      "text/plain": [
       "<IPython.core.display.HTML object>"
      ]
     },
     "metadata": {},
     "output_type": "display_data"
    },
    {
     "data": {
      "text/markdown": [
       "# 1 passes, 20 topics"
      ],
      "text/plain": [
       "<IPython.core.display.Markdown object>"
      ]
     },
     "metadata": {},
     "output_type": "display_data"
    },
    {
     "data": {
      "text/html": [
       "<table>\n",
       "<thead>\n",
       "<tr><th>Term 1  </th><th>Term 2   </th><th>Term 3  </th><th>Term 4  </th><th>Term 5  </th><th>Term 6    </th><th>Term 7    </th><th>Term 8    </th><th>Term 9  </th><th>Term 10  </th></tr>\n",
       "</thead>\n",
       "<tbody>\n",
       "<tr><td>egas    </td><td>time     </td><td>like    </td><td>play    </td><td>fun     </td><td>kid       </td><td>people    </td><td>go        </td><td>lot     </td><td>get      </td></tr>\n",
       "<tr><td>coffee  </td><td>ice      </td><td>tea     </td><td>cream   </td><td>like    </td><td>place     </td><td>drink     </td><td>try       </td><td>good    </td><td>chocolate</td></tr>\n",
       "<tr><td>order   </td><td>wait     </td><td>come    </td><td>time    </td><td>food    </td><td>minute    </td><td>ask       </td><td>service   </td><td>table   </td><td>take     </td></tr>\n",
       "<tr><td>pizza   </td><td>car      </td><td>good    </td><td>drive   </td><td>service </td><td>crust     </td><td>vehicle   </td><td>get       </td><td>time    </td><td>wash     </td></tr>\n",
       "<tr><td>great   </td><td>food     </td><td>place   </td><td>good    </td><td>service </td><td>love      </td><td>friendly  </td><td>amazing   </td><td>staff   </td><td>time     </td></tr>\n",
       "<tr><td>pour    </td><td>les      </td><td>que     </td><td>des     </td><td>une     </td><td>pas       </td><td>est       </td><td>mais      </td><td>qui     </td><td>plus     </td></tr>\n",
       "<tr><td>taco    </td><td>good     </td><td>order   </td><td>sauce   </td><td>like    </td><td>wing      </td><td>chicken   </td><td>try       </td><td>chip    </td><td>bowl     </td></tr>\n",
       "<tr><td>work    </td><td>company  </td><td>fix     </td><td>come    </td><td>need    </td><td>day       </td><td>service   </td><td>call      </td><td>time    </td><td>new      </td></tr>\n",
       "<tr><td>store   </td><td>price    </td><td>find    </td><td>shop    </td><td>buy     </td><td>item      </td><td>look      </td><td>like      </td><td>location</td><td>selection</td></tr>\n",
       "<tr><td>room    </td><td>hotel    </td><td>stay    </td><td>nice    </td><td>clean   </td><td>pool      </td><td>staff     </td><td>check     </td><td>class   </td><td>bed      </td></tr>\n",
       "<tr><td>great   </td><td>recommend</td><td>time    </td><td>work    </td><td>thank   </td><td>good      </td><td>experience</td><td>care      </td><td>take    </td><td>amazing  </td></tr>\n",
       "<tr><td>place   </td><td>like     </td><td>good    </td><td>food    </td><td>review  </td><td>bad       </td><td>star      </td><td>go        </td><td>know    </td><td>think    </td></tr>\n",
       "<tr><td>sandwich</td><td>breakfast</td><td>good    </td><td>egg     </td><td>cake    </td><td>like      </td><td>try       </td><td>bread     </td><td>order   </td><td>brunch   </td></tr>\n",
       "<tr><td>sushi   </td><td>roll     </td><td>good    </td><td>order   </td><td>food    </td><td>fish      </td><td>like      </td><td>come      </td><td>eat     </td><td>taste    </td></tr>\n",
       "<tr><td>nail    </td><td>hair     </td><td>massage </td><td>time    </td><td>get     </td><td>salon     </td><td>go        </td><td>look      </td><td>place   </td><td>cut      </td></tr>\n",
       "<tr><td>burger  </td><td>fry      </td><td>cheese  </td><td>good    </td><td>order   </td><td>like      </td><td>onion     </td><td>try       </td><td>dog     </td><td>get      </td></tr>\n",
       "<tr><td>bar     </td><td>drink    </td><td>beer    </td><td>good    </td><td>place   </td><td>great     </td><td>night     </td><td>food      </td><td>nice    </td><td>like     </td></tr>\n",
       "<tr><td>tell    </td><td>say      </td><td>call    </td><td>customer</td><td>ask     </td><td>go        </td><td>time      </td><td>service   </td><td>day     </td><td>pay      </td></tr>\n",
       "<tr><td>good    </td><td>salad    </td><td>sauce   </td><td>order   </td><td>dish    </td><td>restaurant</td><td>meal      </td><td>cheese    </td><td>bread   </td><td>menu     </td></tr>\n",
       "<tr><td>food    </td><td>chicken  </td><td>good    </td><td>dish    </td><td>order   </td><td>place     </td><td>rice      </td><td>restaurant</td><td>soup    </td><td>try      </td></tr>\n",
       "</tbody>\n",
       "</table>"
      ],
      "text/plain": [
       "<IPython.core.display.HTML object>"
      ]
     },
     "metadata": {},
     "output_type": "display_data"
    }
   ],
   "source": [
    "for num_passes, num_topics in [(4, 20), (4, 25), (4, 30), (1, 30), (1, 25), (1, 20)]:\n",
    "    model = gensim.models.ldamulticore.LdaMulticore.load('models/lda/' + str(num_passes) + '-passes_' + str(num_topics) + '-topics')\n",
    "    results = []\n",
    "    for _, text in model.print_topics():\n",
    "        results.append([re.findall('[a-z]+', x)[0] for x in text.split(' + ')])\n",
    "    display(Markdown(\"# \" + str(num_passes) + \" passes, \" + str(num_topics) + \" topics\"))\n",
    "    display(HTML(tabulate(results, tablefmt=\"html\", headers=[\"Term \" + str(x) for x in range(1, 11)])))"
   ]
  }
 ],
 "metadata": {
  "kernelspec": {
   "display_name": "Python 3",
   "language": "python",
   "name": "python3"
  },
  "language_info": {
   "codemirror_mode": {
    "name": "ipython",
    "version": 3
   },
   "file_extension": ".py",
   "mimetype": "text/x-python",
   "name": "python",
   "nbconvert_exporter": "python",
   "pygments_lexer": "ipython3",
   "version": "3.6.6"
  },
  "toc": {
   "base_numbering": 1,
   "nav_menu": {},
   "number_sections": true,
   "sideBar": true,
   "skip_h1_title": false,
   "title_cell": "Table of Contents",
   "title_sidebar": "Contents",
   "toc_cell": false,
   "toc_position": {},
   "toc_section_display": true,
   "toc_window_display": false
  }
 },
 "nbformat": 4,
 "nbformat_minor": 2
}
