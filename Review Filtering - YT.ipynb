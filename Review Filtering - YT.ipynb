{
 "cells": [
  {
   "cell_type": "code",
   "execution_count": 3,
   "metadata": {
    "ExecuteTime": {
     "end_time": "2019-04-10T12:44:34.284931Z",
     "start_time": "2019-04-10T12:44:04.487052Z"
    }
   },
   "outputs": [
    {
     "data": {
      "application/vnd.jupyter.widget-view+json": {
       "model_id": "5e4f61a2cefe4fa491319f03140ded96",
       "version_major": 2,
       "version_minor": 0
      },
      "text/plain": [
       "HBox(children=(IntProgress(value=1, bar_style='info', max=1), HTML(value='')))"
      ]
     },
     "metadata": {},
     "output_type": "display_data"
    },
    {
     "name": "stdout",
     "output_type": "stream",
     "text": [
      "\n"
     ]
    }
   ],
   "source": [
    "import pandas as pd\n",
    "import spacy\n",
    "from tqdm import tqdm_notebook\n",
    "tqdm_notebook().pandas()\n",
    "\n",
    "nlp = spacy.load(\"en_core_web_lg\")"
   ]
  },
  {
   "cell_type": "code",
   "execution_count": 4,
   "metadata": {
    "ExecuteTime": {
     "end_time": "2019-04-10T12:45:35.045578Z",
     "start_time": "2019-04-10T12:44:34.313239Z"
    }
   },
   "outputs": [],
   "source": [
    "business_name = \"Shake Shack\"\n",
    "reviews = pd.read_pickle(\"data/\" + business_name + \"_spacy\")"
   ]
  },
  {
   "cell_type": "code",
   "execution_count": 21,
   "metadata": {
    "ExecuteTime": {
     "end_time": "2019-04-10T13:09:19.033648Z",
     "start_time": "2019-04-10T13:09:18.852132Z"
    }
   },
   "outputs": [
    {
     "data": {
      "application/vnd.jupyter.widget-view+json": {
       "model_id": "aabf0c11916a4f63be90cc2220193642",
       "version_major": 2,
       "version_minor": 0
      },
      "text/plain": [
       "HBox(children=(IntProgress(value=0, max=5169), HTML(value='')))"
      ]
     },
     "metadata": {},
     "output_type": "display_data"
    },
    {
     "name": "stdout",
     "output_type": "stream",
     "text": [
      "\n"
     ]
    }
   ],
   "source": [
    "search_query = \"location\"\n",
    "search_doc = nlp(search_query)\n",
    "\n",
    "def calc_similarity(review_doc):\n",
    "    return review_doc.similarity(search_doc)\n",
    "\n",
    "reviews['similarity'] = reviews.spacy.progress_apply(calc_similarity)\n",
    "reviews.sort_values('similarity', ascending=False, inplace=True)"
   ]
  },
  {
   "cell_type": "code",
   "execution_count": 27,
   "metadata": {
    "ExecuteTime": {
     "end_time": "2019-04-10T13:12:03.185566Z",
     "start_time": "2019-04-10T13:12:03.151658Z"
    }
   },
   "outputs": [],
   "source": [
    "from IPython.display import HTML, display\n",
    "import tabulate"
   ]
  },
  {
   "cell_type": "code",
   "execution_count": null,
   "metadata": {},
   "outputs": [],
   "source": [
    "# NOUN, VERB, ADJ (CCONJ ADJ VERB)\n",
    "# ADJ NOUN/PROPN\n",
    "# ADV VERB\n",
    "# ADJ ADJ NOUN/PROPN\n",
    "# ADV VERB\n",
    "# PROPN VERB ADJ\n",
    "# PROPN PROPN PROPN"
   ]
  },
  {
   "cell_type": "code",
   "execution_count": 41,
   "metadata": {
    "ExecuteTime": {
     "end_time": "2019-04-10T13:26:27.618785Z",
     "start_time": "2019-04-10T13:26:27.613801Z"
    }
   },
   "outputs": [],
   "source": [
    "accepted_pos = {'NOUN', 'PROPN', 'ADV', 'ADJ', 'VERB'}\n",
    "after_cconj_pos = {'ADV', 'ADJ', 'VERB'}\n",
    "permitted_start_ends = {('NOUN', 'ADJ'), ('NOUN', 'VERB'), ('PROPN', 'ADJ'), \n",
    "                        ('PROPN', 'VERB'), ('ADJ', 'NOUN'), ('ADJ', 'PROPN'), \n",
    "                        ('ADV', 'VERB'), ('PROPN', 'NOUN'), ('NOUN', 'PROPN'), \n",
    "                        ('NOUN', 'NOUN'), ('PROPN', 'PROPN')}"
   ]
  },
  {
   "cell_type": "code",
   "execution_count": null,
   "metadata": {},
   "outputs": [],
   "source": [
    "def pull_phrases(doc):"
   ]
  },
  {
   "cell_type": "code",
   "execution_count": 64,
   "metadata": {
    "ExecuteTime": {
     "end_time": "2019-04-10T13:34:25.706033Z",
     "start_time": "2019-04-10T13:34:25.688083Z"
    }
   },
   "outputs": [
    {
     "name": "stdout",
     "output_type": "stream",
     "text": [
      "Still the same great taste, unfortunately the customer service is lacking compared to the summerlin location.\n",
      "['still', 'same great taste', 'unfortunately', 'customer service be lack compare', 'summerlin location']\n"
     ]
    }
   ],
   "source": [
    "i = 2\n",
    "doc = reviews.iloc[i]['spacy']\n",
    "phrases = []\n",
    "\n",
    "start_index = 0 # should be inclusive\n",
    "end_index = 0 # should be exclusive\n",
    "\n",
    "while start_index < len(doc):\n",
    "    while start_index < len(doc) and doc[start_index].pos_ not in accepted_pos:\n",
    "        start_index+=1\n",
    "    end_index = start_index\n",
    "    while end_index < len(doc) and doc[end_index].pos_ in accepted_pos:\n",
    "        end_index += 1\n",
    "        if end_index < len(doc) - 1 and doc[end_index].pos_ == 'CCONJ' and doc[end_index+1].pos_ in after_cconj_pos:\n",
    "            end_index += 2 # include related terms after conjunctions\n",
    "        \n",
    "    # add phrase\n",
    "    phrase = []\n",
    "    for token_index in range(start_index, end_index):\n",
    "        phrase.append(doc[token_index].lemma_)\n",
    "    phrase = ' '.join(phrase)\n",
    "    if len(phrase) > 1:\n",
    "        phrases.append(phrase)\n",
    "    \n",
    "    # Move start_index to end_index, to continue scanning\n",
    "    start_index = end_index\n",
    "print(doc)\n",
    "print(phrases)"
   ]
  },
  {
   "cell_type": "code",
   "execution_count": 48,
   "metadata": {
    "ExecuteTime": {
     "end_time": "2019-04-10T13:28:29.613211Z",
     "start_time": "2019-04-10T13:28:29.600246Z"
    }
   },
   "outputs": [
    {
     "data": {
      "text/plain": [
       "['delicious french fries',\n",
       " 'yummy hot dog',\n",
       " 'atmosphere be very casual but pleasant',\n",
       " 'very convenient location',\n",
       " 'downtown summerlin']"
      ]
     },
     "execution_count": 48,
     "metadata": {},
     "output_type": "execute_result"
    }
   ],
   "source": [
    "phrases"
   ]
  },
  {
   "cell_type": "code",
   "execution_count": 63,
   "metadata": {
    "ExecuteTime": {
     "end_time": "2019-04-10T13:33:06.515072Z",
     "start_time": "2019-04-10T13:33:05.290349Z"
    },
    "scrolled": false
   },
   "outputs": [
    {
     "data": {
      "text/plain": [
       "'So happy to have this location in Charlotte. .. centrally located in the Park Road Shopping Center. Just as good as the ones I remember from out of state'"
      ]
     },
     "metadata": {},
     "output_type": "display_data"
    },
    {
     "data": {
      "text/html": [
       "<table>\n",
       "<tbody>\n",
       "<tr><td>So       </td><td>so       </td><td>ADV  </td></tr>\n",
       "<tr><td>happy    </td><td>happy    </td><td>ADJ  </td></tr>\n",
       "<tr><td>to       </td><td>to       </td><td>PART </td></tr>\n",
       "<tr><td>have     </td><td>have     </td><td>VERB </td></tr>\n",
       "<tr><td>this     </td><td>this     </td><td>DET  </td></tr>\n",
       "<tr><td>location </td><td>location </td><td>NOUN </td></tr>\n",
       "<tr><td>in       </td><td>in       </td><td>ADP  </td></tr>\n",
       "<tr><td>Charlotte</td><td>charlotte</td><td>PROPN</td></tr>\n",
       "<tr><td>.        </td><td>.        </td><td>PUNCT</td></tr>\n",
       "<tr><td>..       </td><td>..       </td><td>PUNCT</td></tr>\n",
       "<tr><td>centrally</td><td>centrally</td><td>ADV  </td></tr>\n",
       "<tr><td>located  </td><td>locate   </td><td>VERB </td></tr>\n",
       "<tr><td>in       </td><td>in       </td><td>ADP  </td></tr>\n",
       "<tr><td>the      </td><td>the      </td><td>DET  </td></tr>\n",
       "<tr><td>Park     </td><td>park     </td><td>PROPN</td></tr>\n",
       "<tr><td>Road     </td><td>road     </td><td>PROPN</td></tr>\n",
       "<tr><td>Shopping </td><td>shopping </td><td>PROPN</td></tr>\n",
       "<tr><td>Center   </td><td>center   </td><td>PROPN</td></tr>\n",
       "<tr><td>.        </td><td>.        </td><td>PUNCT</td></tr>\n",
       "<tr><td>Just     </td><td>just     </td><td>ADV  </td></tr>\n",
       "<tr><td>as       </td><td>as       </td><td>ADV  </td></tr>\n",
       "<tr><td>good     </td><td>good     </td><td>ADJ  </td></tr>\n",
       "<tr><td>as       </td><td>as       </td><td>ADP  </td></tr>\n",
       "<tr><td>the      </td><td>the      </td><td>DET  </td></tr>\n",
       "<tr><td>ones     </td><td>one      </td><td>NOUN </td></tr>\n",
       "<tr><td>I        </td><td>-PRON-   </td><td>PRON </td></tr>\n",
       "<tr><td>remember </td><td>remember </td><td>VERB </td></tr>\n",
       "<tr><td>from     </td><td>from     </td><td>ADP  </td></tr>\n",
       "<tr><td>out      </td><td>out      </td><td>ADP  </td></tr>\n",
       "<tr><td>of       </td><td>of       </td><td>ADP  </td></tr>\n",
       "<tr><td>state    </td><td>state    </td><td>NOUN </td></tr>\n",
       "</tbody>\n",
       "</table>"
      ],
      "text/plain": [
       "<IPython.core.display.HTML object>"
      ]
     },
     "metadata": {},
     "output_type": "display_data"
    },
    {
     "data": {
      "text/plain": [
       "'Still the same great taste, unfortunately the customer service is lacking compared to the summerlin location.'"
      ]
     },
     "metadata": {},
     "output_type": "display_data"
    },
    {
     "data": {
      "text/html": [
       "<table>\n",
       "<tbody>\n",
       "<tr><td>Still        </td><td>still        </td><td>ADV  </td></tr>\n",
       "<tr><td>the          </td><td>the          </td><td>DET  </td></tr>\n",
       "<tr><td>same         </td><td>same         </td><td>ADJ  </td></tr>\n",
       "<tr><td>great        </td><td>great        </td><td>ADJ  </td></tr>\n",
       "<tr><td>taste        </td><td>taste        </td><td>NOUN </td></tr>\n",
       "<tr><td>,            </td><td>,            </td><td>PUNCT</td></tr>\n",
       "<tr><td>unfortunately</td><td>unfortunately</td><td>ADV  </td></tr>\n",
       "<tr><td>the          </td><td>the          </td><td>DET  </td></tr>\n",
       "<tr><td>customer     </td><td>customer     </td><td>NOUN </td></tr>\n",
       "<tr><td>service      </td><td>service      </td><td>NOUN </td></tr>\n",
       "<tr><td>is           </td><td>be           </td><td>VERB </td></tr>\n",
       "<tr><td>lacking      </td><td>lack         </td><td>VERB </td></tr>\n",
       "<tr><td>compared     </td><td>compare      </td><td>VERB </td></tr>\n",
       "<tr><td>to           </td><td>to           </td><td>ADP  </td></tr>\n",
       "<tr><td>the          </td><td>the          </td><td>DET  </td></tr>\n",
       "<tr><td>summerlin    </td><td>summerlin    </td><td>NOUN </td></tr>\n",
       "<tr><td>location     </td><td>location     </td><td>NOUN </td></tr>\n",
       "<tr><td>.            </td><td>.            </td><td>PUNCT</td></tr>\n",
       "</tbody>\n",
       "</table>"
      ],
      "text/plain": [
       "<IPython.core.display.HTML object>"
      ]
     },
     "metadata": {},
     "output_type": "display_data"
    },
    {
     "data": {
      "text/plain": [
       "\"This location of Shake Shack is the one to visit in AZ.  Consistently good burgers and good service.  Has not yet been a disappointing experience at the Central location.  Props to this location keep it up and please don't change.\""
      ]
     },
     "metadata": {},
     "output_type": "display_data"
    },
    {
     "data": {
      "text/html": [
       "<table>\n",
       "<tbody>\n",
       "<tr><td>This         </td><td>this         </td><td>DET  </td></tr>\n",
       "<tr><td>location     </td><td>location     </td><td>NOUN </td></tr>\n",
       "<tr><td>of           </td><td>of           </td><td>ADP  </td></tr>\n",
       "<tr><td>Shake        </td><td>shake        </td><td>PROPN</td></tr>\n",
       "<tr><td>Shack        </td><td>shack        </td><td>PROPN</td></tr>\n",
       "<tr><td>is           </td><td>be           </td><td>VERB </td></tr>\n",
       "<tr><td>the          </td><td>the          </td><td>DET  </td></tr>\n",
       "<tr><td>one          </td><td>one          </td><td>NUM  </td></tr>\n",
       "<tr><td>to           </td><td>to           </td><td>PART </td></tr>\n",
       "<tr><td>visit        </td><td>visit        </td><td>VERB </td></tr>\n",
       "<tr><td>in           </td><td>in           </td><td>ADP  </td></tr>\n",
       "<tr><td>AZ           </td><td>az           </td><td>PROPN</td></tr>\n",
       "<tr><td>.            </td><td>.            </td><td>PUNCT</td></tr>\n",
       "<tr><td>             </td><td>             </td><td>     </td></tr>\n",
       "<tr><td>Consistently </td><td>consistently </td><td>ADV  </td></tr>\n",
       "<tr><td>good         </td><td>good         </td><td>ADJ  </td></tr>\n",
       "<tr><td>burgers      </td><td>burger       </td><td>NOUN </td></tr>\n",
       "<tr><td>and          </td><td>and          </td><td>CCONJ</td></tr>\n",
       "<tr><td>good         </td><td>good         </td><td>ADJ  </td></tr>\n",
       "<tr><td>service      </td><td>service      </td><td>NOUN </td></tr>\n",
       "<tr><td>.            </td><td>.            </td><td>PUNCT</td></tr>\n",
       "<tr><td>             </td><td>             </td><td>     </td></tr>\n",
       "<tr><td>Has          </td><td>have         </td><td>VERB </td></tr>\n",
       "<tr><td>not          </td><td>not          </td><td>ADV  </td></tr>\n",
       "<tr><td>yet          </td><td>yet          </td><td>ADV  </td></tr>\n",
       "<tr><td>been         </td><td>be           </td><td>VERB </td></tr>\n",
       "<tr><td>a            </td><td>a            </td><td>DET  </td></tr>\n",
       "<tr><td>disappointing</td><td>disappointing</td><td>ADJ  </td></tr>\n",
       "<tr><td>experience   </td><td>experience   </td><td>NOUN </td></tr>\n",
       "<tr><td>at           </td><td>at           </td><td>ADP  </td></tr>\n",
       "<tr><td>the          </td><td>the          </td><td>DET  </td></tr>\n",
       "<tr><td>Central      </td><td>central      </td><td>ADJ  </td></tr>\n",
       "<tr><td>location     </td><td>location     </td><td>NOUN </td></tr>\n",
       "<tr><td>.            </td><td>.            </td><td>PUNCT</td></tr>\n",
       "<tr><td>             </td><td>             </td><td>     </td></tr>\n",
       "<tr><td>Props        </td><td>prop         </td><td>NOUN </td></tr>\n",
       "<tr><td>to           </td><td>to           </td><td>ADP  </td></tr>\n",
       "<tr><td>this         </td><td>this         </td><td>DET  </td></tr>\n",
       "<tr><td>location     </td><td>location     </td><td>NOUN </td></tr>\n",
       "<tr><td>keep         </td><td>keep         </td><td>VERB </td></tr>\n",
       "<tr><td>it           </td><td>-PRON-       </td><td>PRON </td></tr>\n",
       "<tr><td>up           </td><td>up           </td><td>PART </td></tr>\n",
       "<tr><td>and          </td><td>and          </td><td>CCONJ</td></tr>\n",
       "<tr><td>please       </td><td>please       </td><td>INTJ </td></tr>\n",
       "<tr><td>do           </td><td>do           </td><td>VERB </td></tr>\n",
       "<tr><td>n't          </td><td>n't          </td><td>ADV  </td></tr>\n",
       "<tr><td>change       </td><td>change       </td><td>VERB </td></tr>\n",
       "<tr><td>.            </td><td>.            </td><td>PUNCT</td></tr>\n",
       "</tbody>\n",
       "</table>"
      ],
      "text/plain": [
       "<IPython.core.display.HTML object>"
      ]
     },
     "metadata": {},
     "output_type": "display_data"
    },
    {
     "data": {
      "text/plain": [
       "'This restaurant is located on the southeast corner of the Premium Outlet Mall North - very closed to self-parking, valet and taxis.  \\n\\nFood was tasty but reminded me of Smashburger - which is average to me.\\n\\nI love the French Fries and the beverage center.\\n\\nEmployees are friendly and helpful.\\n Restaurant is clean and well maintained.\\n\\nI would return if in the area.'"
      ]
     },
     "metadata": {},
     "output_type": "display_data"
    },
    {
     "data": {
      "text/html": [
       "<table>\n",
       "<tbody>\n",
       "<tr><td>This       </td><td>this       </td><td>DET  </td></tr>\n",
       "<tr><td>restaurant </td><td>restaurant </td><td>NOUN </td></tr>\n",
       "<tr><td>is         </td><td>be         </td><td>VERB </td></tr>\n",
       "<tr><td>located    </td><td>locate     </td><td>VERB </td></tr>\n",
       "<tr><td>on         </td><td>on         </td><td>ADP  </td></tr>\n",
       "<tr><td>the        </td><td>the        </td><td>DET  </td></tr>\n",
       "<tr><td>southeast  </td><td>southeast  </td><td>ADJ  </td></tr>\n",
       "<tr><td>corner     </td><td>corner     </td><td>NOUN </td></tr>\n",
       "<tr><td>of         </td><td>of         </td><td>ADP  </td></tr>\n",
       "<tr><td>the        </td><td>the        </td><td>DET  </td></tr>\n",
       "<tr><td>Premium    </td><td>premium    </td><td>PROPN</td></tr>\n",
       "<tr><td>Outlet     </td><td>outlet     </td><td>PROPN</td></tr>\n",
       "<tr><td>Mall       </td><td>mall       </td><td>PROPN</td></tr>\n",
       "<tr><td>North      </td><td>north      </td><td>PROPN</td></tr>\n",
       "<tr><td>-          </td><td>-          </td><td>PUNCT</td></tr>\n",
       "<tr><td>very       </td><td>very       </td><td>ADV  </td></tr>\n",
       "<tr><td>closed     </td><td>closed     </td><td>ADJ  </td></tr>\n",
       "<tr><td>to         </td><td>to         </td><td>ADP  </td></tr>\n",
       "<tr><td>self       </td><td>self       </td><td>NOUN </td></tr>\n",
       "<tr><td>-          </td><td>-          </td><td>PUNCT</td></tr>\n",
       "<tr><td>parking    </td><td>parking    </td><td>NOUN </td></tr>\n",
       "<tr><td>,          </td><td>,          </td><td>PUNCT</td></tr>\n",
       "<tr><td>valet      </td><td>valet      </td><td>NOUN </td></tr>\n",
       "<tr><td>and        </td><td>and        </td><td>CCONJ</td></tr>\n",
       "<tr><td>taxis      </td><td>taxi       </td><td>NOUN </td></tr>\n",
       "<tr><td>.          </td><td>.          </td><td>PUNCT</td></tr>\n",
       "<tr><td>           </td><td>           </td><td>SPACE</td></tr>\n",
       "<tr><td>Food       </td><td>food       </td><td>PROPN</td></tr>\n",
       "<tr><td>was        </td><td>be         </td><td>VERB </td></tr>\n",
       "<tr><td>tasty      </td><td>tasty      </td><td>ADJ  </td></tr>\n",
       "<tr><td>but        </td><td>but        </td><td>CCONJ</td></tr>\n",
       "<tr><td>reminded   </td><td>remind     </td><td>VERB </td></tr>\n",
       "<tr><td>me         </td><td>-PRON-     </td><td>PRON </td></tr>\n",
       "<tr><td>of         </td><td>of         </td><td>ADP  </td></tr>\n",
       "<tr><td>Smashburger</td><td>smashburger</td><td>PROPN</td></tr>\n",
       "<tr><td>-          </td><td>-          </td><td>PUNCT</td></tr>\n",
       "<tr><td>which      </td><td>which      </td><td>ADJ  </td></tr>\n",
       "<tr><td>is         </td><td>be         </td><td>VERB </td></tr>\n",
       "<tr><td>average    </td><td>average    </td><td>ADJ  </td></tr>\n",
       "<tr><td>to         </td><td>to         </td><td>ADP  </td></tr>\n",
       "<tr><td>me         </td><td>-PRON-     </td><td>PRON </td></tr>\n",
       "<tr><td>.          </td><td>.          </td><td>PUNCT</td></tr>\n",
       "<tr><td>           </td><td>           </td><td>SPACE</td></tr>\n",
       "<tr><td>I          </td><td>-PRON-     </td><td>PRON </td></tr>\n",
       "<tr><td>love       </td><td>love       </td><td>VERB </td></tr>\n",
       "<tr><td>the        </td><td>the        </td><td>DET  </td></tr>\n",
       "<tr><td>French     </td><td>french     </td><td>PROPN</td></tr>\n",
       "<tr><td>Fries      </td><td>fries      </td><td>PROPN</td></tr>\n",
       "<tr><td>and        </td><td>and        </td><td>CCONJ</td></tr>\n",
       "<tr><td>the        </td><td>the        </td><td>DET  </td></tr>\n",
       "<tr><td>beverage   </td><td>beverage   </td><td>NOUN </td></tr>\n",
       "<tr><td>center     </td><td>center     </td><td>NOUN </td></tr>\n",
       "<tr><td>.          </td><td>.          </td><td>PUNCT</td></tr>\n",
       "<tr><td>           </td><td>           </td><td>SPACE</td></tr>\n",
       "<tr><td>Employees  </td><td>employees  </td><td>PROPN</td></tr>\n",
       "<tr><td>are        </td><td>be         </td><td>VERB </td></tr>\n",
       "<tr><td>friendly   </td><td>friendly   </td><td>ADJ  </td></tr>\n",
       "<tr><td>and        </td><td>and        </td><td>CCONJ</td></tr>\n",
       "<tr><td>helpful    </td><td>helpful    </td><td>ADJ  </td></tr>\n",
       "<tr><td>.          </td><td>.          </td><td>PUNCT</td></tr>\n",
       "<tr><td>           </td><td>           </td><td>SPACE</td></tr>\n",
       "<tr><td>Restaurant </td><td>restaurant </td><td>PROPN</td></tr>\n",
       "<tr><td>is         </td><td>be         </td><td>VERB </td></tr>\n",
       "<tr><td>clean      </td><td>clean      </td><td>ADJ  </td></tr>\n",
       "<tr><td>and        </td><td>and        </td><td>CCONJ</td></tr>\n",
       "<tr><td>well       </td><td>well       </td><td>ADV  </td></tr>\n",
       "<tr><td>maintained </td><td>maintain   </td><td>VERB </td></tr>\n",
       "<tr><td>.          </td><td>.          </td><td>PUNCT</td></tr>\n",
       "<tr><td>           </td><td>           </td><td>SPACE</td></tr>\n",
       "<tr><td>I          </td><td>-PRON-     </td><td>PRON </td></tr>\n",
       "<tr><td>would      </td><td>would      </td><td>VERB </td></tr>\n",
       "<tr><td>return     </td><td>return     </td><td>VERB </td></tr>\n",
       "<tr><td>if         </td><td>if         </td><td>ADP  </td></tr>\n",
       "<tr><td>in         </td><td>in         </td><td>ADP  </td></tr>\n",
       "<tr><td>the        </td><td>the        </td><td>DET  </td></tr>\n",
       "<tr><td>area       </td><td>area       </td><td>NOUN </td></tr>\n",
       "<tr><td>.          </td><td>.          </td><td>PUNCT</td></tr>\n",
       "</tbody>\n",
       "</table>"
      ],
      "text/plain": [
       "<IPython.core.display.HTML object>"
      ]
     },
     "metadata": {},
     "output_type": "display_data"
    },
    {
     "data": {
      "text/plain": [
       "\"Food: 5/5\\nService: 5/5\\nCleanliness: 5/5\\nDecor & Style: 5/5\\n\\nI really enjoy the Vegas location more even so than the New York location. Same great food, Brooklyn Beer, and the wait isn't freaking long like in Madison Square Park. Spacious, and fast service.\""
      ]
     },
     "metadata": {},
     "output_type": "display_data"
    },
    {
     "data": {
      "text/html": [
       "<table>\n",
       "<tbody>\n",
       "<tr><td>Food       </td><td>food       </td><td>NOUN </td></tr>\n",
       "<tr><td>:          </td><td>:          </td><td>PUNCT</td></tr>\n",
       "<tr><td>5/5        </td><td>5/5        </td><td>NUM  </td></tr>\n",
       "<tr><td>           </td><td>           </td><td>     </td></tr>\n",
       "<tr><td>Service    </td><td>service    </td><td>PROPN</td></tr>\n",
       "<tr><td>:          </td><td>:          </td><td>PUNCT</td></tr>\n",
       "<tr><td>5/5        </td><td>5/5        </td><td>NUM  </td></tr>\n",
       "<tr><td>           </td><td>           </td><td>     </td></tr>\n",
       "<tr><td>Cleanliness</td><td>cleanliness</td><td>PROPN</td></tr>\n",
       "<tr><td>:          </td><td>:          </td><td>PUNCT</td></tr>\n",
       "<tr><td>5/5        </td><td>5/5        </td><td>NUM  </td></tr>\n",
       "<tr><td>           </td><td>           </td><td>     </td></tr>\n",
       "<tr><td>Decor      </td><td>decor      </td><td>PROPN</td></tr>\n",
       "<tr><td>&          </td><td>&          </td><td>CCONJ</td></tr>\n",
       "<tr><td>Style      </td><td>style      </td><td>PROPN</td></tr>\n",
       "<tr><td>:          </td><td>:          </td><td>PUNCT</td></tr>\n",
       "<tr><td>5/5        </td><td>5/5        </td><td>PUNCT</td></tr>\n",
       "<tr><td>           </td><td>           </td><td>SPACE</td></tr>\n",
       "<tr><td>I          </td><td>-PRON-     </td><td>PRON </td></tr>\n",
       "<tr><td>really     </td><td>really     </td><td>ADV  </td></tr>\n",
       "<tr><td>enjoy      </td><td>enjoy      </td><td>VERB </td></tr>\n",
       "<tr><td>the        </td><td>the        </td><td>DET  </td></tr>\n",
       "<tr><td>Vegas      </td><td>vegas      </td><td>PROPN</td></tr>\n",
       "<tr><td>location   </td><td>location   </td><td>NOUN </td></tr>\n",
       "<tr><td>more       </td><td>more       </td><td>ADV  </td></tr>\n",
       "<tr><td>even       </td><td>even       </td><td>ADV  </td></tr>\n",
       "<tr><td>so         </td><td>so         </td><td>ADV  </td></tr>\n",
       "<tr><td>than       </td><td>than       </td><td>ADP  </td></tr>\n",
       "<tr><td>the        </td><td>the        </td><td>DET  </td></tr>\n",
       "<tr><td>New        </td><td>new        </td><td>PROPN</td></tr>\n",
       "<tr><td>York       </td><td>york       </td><td>PROPN</td></tr>\n",
       "<tr><td>location   </td><td>location   </td><td>NOUN </td></tr>\n",
       "<tr><td>.          </td><td>.          </td><td>PUNCT</td></tr>\n",
       "<tr><td>Same       </td><td>same       </td><td>ADJ  </td></tr>\n",
       "<tr><td>great      </td><td>great      </td><td>ADJ  </td></tr>\n",
       "<tr><td>food       </td><td>food       </td><td>NOUN </td></tr>\n",
       "<tr><td>,          </td><td>,          </td><td>PUNCT</td></tr>\n",
       "<tr><td>Brooklyn   </td><td>brooklyn   </td><td>PROPN</td></tr>\n",
       "<tr><td>Beer       </td><td>beer       </td><td>PROPN</td></tr>\n",
       "<tr><td>,          </td><td>,          </td><td>PUNCT</td></tr>\n",
       "<tr><td>and        </td><td>and        </td><td>CCONJ</td></tr>\n",
       "<tr><td>the        </td><td>the        </td><td>DET  </td></tr>\n",
       "<tr><td>wait       </td><td>wait       </td><td>NOUN </td></tr>\n",
       "<tr><td>is         </td><td>be         </td><td>VERB </td></tr>\n",
       "<tr><td>n't        </td><td>n't        </td><td>ADV  </td></tr>\n",
       "<tr><td>freaking   </td><td>freak      </td><td>VERB </td></tr>\n",
       "<tr><td>long       </td><td>long       </td><td>ADV  </td></tr>\n",
       "<tr><td>like       </td><td>like       </td><td>INTJ </td></tr>\n",
       "<tr><td>in         </td><td>in         </td><td>ADP  </td></tr>\n",
       "<tr><td>Madison    </td><td>madison    </td><td>PROPN</td></tr>\n",
       "<tr><td>Square     </td><td>square     </td><td>PROPN</td></tr>\n",
       "<tr><td>Park       </td><td>park       </td><td>PROPN</td></tr>\n",
       "<tr><td>.          </td><td>.          </td><td>PUNCT</td></tr>\n",
       "<tr><td>Spacious   </td><td>spacious   </td><td>ADJ  </td></tr>\n",
       "<tr><td>,          </td><td>,          </td><td>PUNCT</td></tr>\n",
       "<tr><td>and        </td><td>and        </td><td>CCONJ</td></tr>\n",
       "<tr><td>fast       </td><td>fast       </td><td>ADJ  </td></tr>\n",
       "<tr><td>service    </td><td>service    </td><td>NOUN </td></tr>\n",
       "<tr><td>.          </td><td>.          </td><td>PUNCT</td></tr>\n",
       "</tbody>\n",
       "</table>"
      ],
      "text/plain": [
       "<IPython.core.display.HTML object>"
      ]
     },
     "metadata": {},
     "output_type": "display_data"
    },
    {
     "data": {
      "text/plain": [
       "'Delicious French Fries, yummy Hot Dog and the atmosphere was very casual but pleasant.  Very convenient location in Downtown Summerlin.'"
      ]
     },
     "metadata": {},
     "output_type": "display_data"
    },
    {
     "data": {
      "text/html": [
       "<table>\n",
       "<tbody>\n",
       "<tr><td>Delicious </td><td>delicious </td><td>PROPN</td></tr>\n",
       "<tr><td>French    </td><td>french    </td><td>PROPN</td></tr>\n",
       "<tr><td>Fries     </td><td>fries     </td><td>PROPN</td></tr>\n",
       "<tr><td>,         </td><td>,         </td><td>PUNCT</td></tr>\n",
       "<tr><td>yummy     </td><td>yummy     </td><td>ADJ  </td></tr>\n",
       "<tr><td>Hot       </td><td>hot       </td><td>PROPN</td></tr>\n",
       "<tr><td>Dog       </td><td>dog       </td><td>PROPN</td></tr>\n",
       "<tr><td>and       </td><td>and       </td><td>CCONJ</td></tr>\n",
       "<tr><td>the       </td><td>the       </td><td>DET  </td></tr>\n",
       "<tr><td>atmosphere</td><td>atmosphere</td><td>NOUN </td></tr>\n",
       "<tr><td>was       </td><td>be        </td><td>VERB </td></tr>\n",
       "<tr><td>very      </td><td>very      </td><td>ADV  </td></tr>\n",
       "<tr><td>casual    </td><td>casual    </td><td>ADJ  </td></tr>\n",
       "<tr><td>but       </td><td>but       </td><td>CCONJ</td></tr>\n",
       "<tr><td>pleasant  </td><td>pleasant  </td><td>ADJ  </td></tr>\n",
       "<tr><td>.         </td><td>.         </td><td>PUNCT</td></tr>\n",
       "<tr><td>          </td><td>          </td><td>     </td></tr>\n",
       "<tr><td>Very      </td><td>very      </td><td>ADV  </td></tr>\n",
       "<tr><td>convenient</td><td>convenient</td><td>ADJ  </td></tr>\n",
       "<tr><td>location  </td><td>location  </td><td>NOUN </td></tr>\n",
       "<tr><td>in        </td><td>in        </td><td>ADP  </td></tr>\n",
       "<tr><td>Downtown  </td><td>downtown  </td><td>PROPN</td></tr>\n",
       "<tr><td>Summerlin </td><td>summerlin </td><td>PROPN</td></tr>\n",
       "<tr><td>.         </td><td>.         </td><td>PUNCT</td></tr>\n",
       "</tbody>\n",
       "</table>"
      ],
      "text/plain": [
       "<IPython.core.display.HTML object>"
      ]
     },
     "metadata": {},
     "output_type": "display_data"
    },
    {
     "data": {
      "text/plain": [
       "'Amazing burgers, great fries, quick and simple place to get a burger. Very good service, the decor is cool and location is good, right outside of New York New York hotel.'"
      ]
     },
     "metadata": {},
     "output_type": "display_data"
    },
    {
     "data": {
      "text/html": [
       "<table>\n",
       "<tbody>\n",
       "<tr><td>Amazing </td><td>amazing </td><td>ADJ  </td></tr>\n",
       "<tr><td>burgers </td><td>burger  </td><td>NOUN </td></tr>\n",
       "<tr><td>,       </td><td>,       </td><td>PUNCT</td></tr>\n",
       "<tr><td>great   </td><td>great   </td><td>ADJ  </td></tr>\n",
       "<tr><td>fries   </td><td>fry     </td><td>NOUN </td></tr>\n",
       "<tr><td>,       </td><td>,       </td><td>PUNCT</td></tr>\n",
       "<tr><td>quick   </td><td>quick   </td><td>ADJ  </td></tr>\n",
       "<tr><td>and     </td><td>and     </td><td>CCONJ</td></tr>\n",
       "<tr><td>simple  </td><td>simple  </td><td>ADJ  </td></tr>\n",
       "<tr><td>place   </td><td>place   </td><td>NOUN </td></tr>\n",
       "<tr><td>to      </td><td>to      </td><td>PART </td></tr>\n",
       "<tr><td>get     </td><td>get     </td><td>VERB </td></tr>\n",
       "<tr><td>a       </td><td>a       </td><td>DET  </td></tr>\n",
       "<tr><td>burger  </td><td>burger  </td><td>NOUN </td></tr>\n",
       "<tr><td>.       </td><td>.       </td><td>PUNCT</td></tr>\n",
       "<tr><td>Very    </td><td>very    </td><td>ADV  </td></tr>\n",
       "<tr><td>good    </td><td>good    </td><td>ADJ  </td></tr>\n",
       "<tr><td>service </td><td>service </td><td>NOUN </td></tr>\n",
       "<tr><td>,       </td><td>,       </td><td>PUNCT</td></tr>\n",
       "<tr><td>the     </td><td>the     </td><td>DET  </td></tr>\n",
       "<tr><td>decor   </td><td>decor   </td><td>NOUN </td></tr>\n",
       "<tr><td>is      </td><td>be      </td><td>VERB </td></tr>\n",
       "<tr><td>cool    </td><td>cool    </td><td>ADJ  </td></tr>\n",
       "<tr><td>and     </td><td>and     </td><td>CCONJ</td></tr>\n",
       "<tr><td>location</td><td>location</td><td>NOUN </td></tr>\n",
       "<tr><td>is      </td><td>be      </td><td>VERB </td></tr>\n",
       "<tr><td>good    </td><td>good    </td><td>ADJ  </td></tr>\n",
       "<tr><td>,       </td><td>,       </td><td>PUNCT</td></tr>\n",
       "<tr><td>right   </td><td>right   </td><td>ADJ  </td></tr>\n",
       "<tr><td>outside </td><td>outside </td><td>ADV  </td></tr>\n",
       "<tr><td>of      </td><td>of      </td><td>ADP  </td></tr>\n",
       "<tr><td>New     </td><td>new     </td><td>PROPN</td></tr>\n",
       "<tr><td>York    </td><td>york    </td><td>PROPN</td></tr>\n",
       "<tr><td>New     </td><td>new     </td><td>PROPN</td></tr>\n",
       "<tr><td>York    </td><td>york    </td><td>PROPN</td></tr>\n",
       "<tr><td>hotel   </td><td>hotel   </td><td>NOUN </td></tr>\n",
       "<tr><td>.       </td><td>.       </td><td>PUNCT</td></tr>\n",
       "</tbody>\n",
       "</table>"
      ],
      "text/plain": [
       "<IPython.core.display.HTML object>"
      ]
     },
     "metadata": {},
     "output_type": "display_data"
    }
   ],
   "source": [
    "for i in range(1, 8):\n",
    "    display(reviews.iloc[i]['text'])\n",
    "    doc = reviews.iloc[i]['spacy']\n",
    "    output = []\n",
    "    for token in doc:\n",
    "        output.append([token.text, token.lemma_, token.pos_])\n",
    "    display(HTML(tabulate.tabulate(output, tablefmt='html')))"
   ]
  },
  {
   "cell_type": "code",
   "execution_count": null,
   "metadata": {},
   "outputs": [],
   "source": []
  }
 ],
 "metadata": {
  "kernelspec": {
   "display_name": "Python 3",
   "language": "python",
   "name": "python3"
  },
  "language_info": {
   "codemirror_mode": {
    "name": "ipython",
    "version": 3
   },
   "file_extension": ".py",
   "mimetype": "text/x-python",
   "name": "python",
   "nbconvert_exporter": "python",
   "pygments_lexer": "ipython3",
   "version": "3.6.6"
  },
  "toc": {
   "base_numbering": 1,
   "nav_menu": {},
   "number_sections": true,
   "sideBar": true,
   "skip_h1_title": false,
   "title_cell": "Table of Contents",
   "title_sidebar": "Contents",
   "toc_cell": false,
   "toc_position": {},
   "toc_section_display": true,
   "toc_window_display": false
  }
 },
 "nbformat": 4,
 "nbformat_minor": 2
}
