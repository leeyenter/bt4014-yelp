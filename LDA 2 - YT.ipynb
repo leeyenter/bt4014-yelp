{
 "cells": [
  {
   "cell_type": "code",
   "execution_count": 3,
   "metadata": {
    "ExecuteTime": {
     "end_time": "2019-04-11T02:50:12.936954Z",
     "start_time": "2019-04-11T02:50:12.907998Z"
    }
   },
   "outputs": [
    {
     "data": {
      "application/vnd.jupyter.widget-view+json": {
       "model_id": "443b425811494dcabfeeac4e1fef7dbe",
       "version_major": 2,
       "version_minor": 0
      },
      "text/plain": [
       "HBox(children=(IntProgress(value=1, bar_style='info', max=1), HTML(value='')))"
      ]
     },
     "metadata": {},
     "output_type": "display_data"
    },
    {
     "name": "stdout",
     "output_type": "stream",
     "text": [
      "\n"
     ]
    }
   ],
   "source": [
    "from tqdm import tqdm_notebook\n",
    "tqdm_notebook().pandas()\n",
    "\n",
    "import json\n",
    "import gensim\n",
    "# from gensim.models import CoherenceModel"
   ]
  },
  {
   "cell_type": "code",
   "execution_count": 3,
   "metadata": {
    "ExecuteTime": {
     "end_time": "2019-04-11T02:37:33.908951Z",
     "start_time": "2019-04-11T02:35:32.088104Z"
    }
   },
   "outputs": [],
   "source": [
    "with open(\"token.json\") as f:\n",
    "    tokens = json.load(f)"
   ]
  },
  {
   "cell_type": "code",
   "execution_count": 4,
   "metadata": {
    "ExecuteTime": {
     "end_time": "2019-04-11T02:37:33.959815Z",
     "start_time": "2019-04-11T02:37:33.927900Z"
    }
   },
   "outputs": [
    {
     "data": {
      "text/plain": [
       "6685900"
      ]
     },
     "execution_count": 4,
     "metadata": {},
     "output_type": "execute_result"
    }
   ],
   "source": [
    "len(tokens)"
   ]
  },
  {
   "cell_type": "code",
   "execution_count": 9,
   "metadata": {},
   "outputs": [],
   "source": [
    "# dictionary = gensim.corpora.Dictionary(tokens)\n",
    "# dictionary.save(\"dictionary\")\n",
    "\n",
    "# len(dictionary)"
   ]
  },
  {
   "cell_type": "code",
   "execution_count": 4,
   "metadata": {
    "ExecuteTime": {
     "end_time": "2019-04-11T02:50:19.788398Z",
     "start_time": "2019-04-11T02:50:17.738553Z"
    }
   },
   "outputs": [
    {
     "data": {
      "text/plain": [
       "94783"
      ]
     },
     "execution_count": 4,
     "metadata": {},
     "output_type": "execute_result"
    }
   ],
   "source": [
    "dictionary = gensim.corpora.Dictionary.load('dictionary')\n",
    "dictionary.filter_extremes(no_below=20, no_above=0.5, keep_n=None)\n",
    "len(dictionary)"
   ]
  },
  {
   "cell_type": "code",
   "execution_count": 15,
   "metadata": {
    "ExecuteTime": {
     "end_time": "2019-04-10T11:54:29.801331Z",
     "start_time": "2019-04-10T11:54:29.708974Z"
    }
   },
   "outputs": [],
   "source": [
    "# corpus = [0] * len(tokens)\n",
    "\n",
    "# for i in tqdm_notebook(range(len(tokens))):\n",
    "#     corpus[i] = dictionary.doc2bow(tokens[i])\n",
    "\n",
    "# with open(\"corpus.json\", \"w\") as f:\n",
    "#     json.dump(corpus, f)"
   ]
  },
  {
   "cell_type": "code",
   "execution_count": 5,
   "metadata": {
    "ExecuteTime": {
     "end_time": "2019-04-11T03:01:20.981606Z",
     "start_time": "2019-04-11T02:50:27.848192Z"
    }
   },
   "outputs": [],
   "source": [
    "with open(\"corpus.json\") as f:\n",
    "    corpus = json.load(f)"
   ]
  },
  {
   "cell_type": "code",
   "execution_count": 6,
   "metadata": {
    "ExecuteTime": {
     "end_time": "2019-04-11T03:31:45.475622Z",
     "start_time": "2019-04-11T03:01:21.043513Z"
    }
   },
   "outputs": [],
   "source": [
    "lda_model = gensim.models.ldamulticore.LdaMulticore(corpus=corpus,\n",
    "                                                    id2word=dictionary,\n",
    "                                                    num_topics=10, \n",
    "                                                    random_state=1,\n",
    "                                                    chunksize=2000,\n",
    "                                                    passes=1,\n",
    "                                                    workers=3,\n",
    "                                                    per_word_topics=True)"
   ]
  },
  {
   "cell_type": "code",
   "execution_count": 30,
   "metadata": {
    "ExecuteTime": {
     "end_time": "2019-04-11T03:47:13.738793Z",
     "start_time": "2019-04-11T03:47:13.733806Z"
    }
   },
   "outputs": [],
   "source": [
    "from gensim.models.coherencemodel import CoherenceModel"
   ]
  },
  {
   "cell_type": "code",
   "execution_count": 31,
   "metadata": {
    "ExecuteTime": {
     "end_time": "2019-04-11T03:53:11.192016Z",
     "start_time": "2019-04-11T03:47:50.302307Z"
    }
   },
   "outputs": [],
   "source": [
    "cm = CoherenceModel(model=lda_model, corpus=corpus, coherence='u_mass')\n",
    "coherence = cm.get_coherence()  # get coherence value"
   ]
  },
  {
   "cell_type": "code",
   "execution_count": 14,
   "metadata": {
    "ExecuteTime": {
     "end_time": "2019-04-11T03:41:23.498561Z",
     "start_time": "2019-04-11T03:41:23.492615Z"
    }
   },
   "outputs": [],
   "source": [
    "from pprint import pprint\n",
    "import re"
   ]
  },
  {
   "cell_type": "code",
   "execution_count": 29,
   "metadata": {
    "ExecuteTime": {
     "end_time": "2019-04-11T03:44:32.846634Z",
     "start_time": "2019-04-11T03:44:32.816639Z"
    }
   },
   "outputs": [
    {
     "name": "stdout",
     "output_type": "stream",
     "text": [
      "['room', 'like', 'stay', 'hotel', 'egas', 'place', 'nice', 'good', 'time', 'lot']\n",
      "['drink', 'bar', 'place', 'beer', 'good', 'great', 'coffee', 'like', 'nice', 'night']\n",
      "['order', 'time', 'come', 'wait', 'ask', 'food', 'go', 'say', 'service', 'minute']\n",
      "['great', 'food', 'good', 'place', 'service', 'friendly', 'love', 'pizza', 'time', 'price']\n",
      "['good', 'order', 'salad', 'food', 'cheese', 'restaurant', 'menu', 'fry', 'come', 'meal']\n",
      "['dog', 'pet', 'bike', 'vet', 'pour', 'animal', 'cat', 'que', 'les', 'des']\n",
      "['good', 'food', 'chicken', 'order', 'place', 'like', 'sauce', 'try', 'come', 'rice']\n",
      "['car', 'call', 'work', 'service', 'tell', 'day', 'time', 'need', 'company', 'say']\n",
      "['sandwich', 'like', 'good', 'try', 'cream', 'ice', 'place', 'taste', 'fresh', 'love']\n",
      "['time', 'great', 'go', 'work', 'feel', 'staff', 'recommend', 'hair', 'look', 'good']\n"
     ]
    }
   ],
   "source": [
    "for _, text in lda_model.print_topics():\n",
    "    print([re.findall('[a-z]+', x)[0] for x in text.split(' + ')])"
   ]
  }
 ],
 "metadata": {
  "kernelspec": {
   "display_name": "Python 3",
   "language": "python",
   "name": "python3"
  },
  "language_info": {
   "codemirror_mode": {
    "name": "ipython",
    "version": 3
   },
   "file_extension": ".py",
   "mimetype": "text/x-python",
   "name": "python",
   "nbconvert_exporter": "python",
   "pygments_lexer": "ipython3",
   "version": "3.6.6"
  },
  "toc": {
   "base_numbering": 1,
   "nav_menu": {},
   "number_sections": true,
   "sideBar": true,
   "skip_h1_title": false,
   "title_cell": "Table of Contents",
   "title_sidebar": "Contents",
   "toc_cell": false,
   "toc_position": {},
   "toc_section_display": true,
   "toc_window_display": false
  }
 },
 "nbformat": 4,
 "nbformat_minor": 2
}
