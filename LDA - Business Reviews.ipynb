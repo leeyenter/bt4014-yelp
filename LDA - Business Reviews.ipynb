{
 "cells": [
  {
   "cell_type": "markdown",
   "metadata": {},
   "source": [
    "# Build Dictionary & Corpus"
   ]
  },
  {
   "cell_type": "code",
   "execution_count": 1,
   "metadata": {
    "ExecuteTime": {
     "end_time": "2019-04-12T01:14:02.588081Z",
     "start_time": "2019-04-12T01:13:56.627339Z"
    }
   },
   "outputs": [
    {
     "data": {
      "application/vnd.jupyter.widget-view+json": {
       "model_id": "",
       "version_major": 2,
       "version_minor": 0
      },
      "text/plain": [
       "HBox(children=(IntProgress(value=1, bar_style='info', max=1), HTML(value='')))"
      ]
     },
     "metadata": {},
     "output_type": "display_data"
    },
    {
     "name": "stdout",
     "output_type": "stream",
     "text": [
      "\n"
     ]
    },
    {
     "name": "stderr",
     "output_type": "stream",
     "text": [
      "C:\\Users\\yenter\\Anaconda3\\lib\\site-packages\\gensim\\utils.py:1197: UserWarning: detected Windows; aliasing chunkize to chunkize_serial\n",
      "  warnings.warn(\"detected Windows; aliasing chunkize to chunkize_serial\")\n"
     ]
    }
   ],
   "source": [
    "import pickle\n",
    "import random\n",
    "\n",
    "import gensim\n",
    "import pandas as pd\n",
    "from gensim.models.coherencemodel import CoherenceModel\n",
    "from IPython.display import HTML, Markdown, display\n",
    "from tabulate import tabulate\n",
    "from tqdm import tqdm_notebook\n",
    "\n",
    "tqdm_notebook().pandas()"
   ]
  },
  {
   "cell_type": "code",
   "execution_count": 45,
   "metadata": {
    "ExecuteTime": {
     "end_time": "2019-04-12T01:46:23.825421Z",
     "start_time": "2019-04-12T01:46:22.143887Z"
    }
   },
   "outputs": [
    {
     "data": {
      "application/vnd.jupyter.widget-view+json": {
       "model_id": "4baf3faad3b34fedbbecf1429e5ef757",
       "version_major": 2,
       "version_minor": 0
      },
      "text/plain": [
       "HBox(children=(IntProgress(value=0, max=6919), HTML(value='')))"
      ]
     },
     "metadata": {},
     "output_type": "display_data"
    },
    {
     "name": "stdout",
     "output_type": "stream",
     "text": [
      "\n"
     ]
    }
   ],
   "source": [
    "business_name = \"In-N-Out Burger\"\n",
    "df = pd.read_parquet(\"data/\" + business_name + '_reviews.parquet')\n",
    "tokens = df.text.progress_apply(gensim.parsing.preprocess_string)\n",
    "tokens = list(tokens)"
   ]
  },
  {
   "cell_type": "code",
   "execution_count": 46,
   "metadata": {
    "ExecuteTime": {
     "end_time": "2019-04-12T01:46:24.138553Z",
     "start_time": "2019-04-12T01:46:23.826437Z"
    }
   },
   "outputs": [
    {
     "data": {
      "application/vnd.jupyter.widget-view+json": {
       "model_id": "12c703311e41483c87c4c84e9877ce38",
       "version_major": 2,
       "version_minor": 0
      },
      "text/plain": [
       "HBox(children=(IntProgress(value=0, max=6919), HTML(value='')))"
      ]
     },
     "metadata": {},
     "output_type": "display_data"
    },
    {
     "name": "stdout",
     "output_type": "stream",
     "text": [
      "\n"
     ]
    }
   ],
   "source": [
    "dictionary = gensim.corpora.Dictionary(tokens)\n",
    "dictionary.filter_extremes(no_below=10, no_above=0.5, keep_n=None)\n",
    "\n",
    "corpus = [0] * len(tokens)\n",
    "\n",
    "for i in tqdm_notebook(range(len(tokens))):\n",
    "    corpus[i] = dictionary.doc2bow(tokens[i])"
   ]
  },
  {
   "cell_type": "markdown",
   "metadata": {
    "ExecuteTime": {
     "end_time": "2019-04-11T15:04:51.552262Z",
     "start_time": "2019-04-11T15:04:51.546278Z"
    }
   },
   "source": [
    "# Model Building & Evaluation"
   ]
  },
  {
   "cell_type": "code",
   "execution_count": 47,
   "metadata": {
    "ExecuteTime": {
     "end_time": "2019-04-12T01:46:24.894159Z",
     "start_time": "2019-04-12T01:46:24.890143Z"
    }
   },
   "outputs": [],
   "source": [
    "list_num_topics = [3, 4, 5, 6, 7, 8]\n",
    "list_passes = [15, 20, 25]\n",
    "done = set()\n",
    "\n",
    "results = []\n",
    "for i in range(len(list_passes)):\n",
    "    results.append([\" \"] * len(list_num_topics))"
   ]
  },
  {
   "cell_type": "code",
   "execution_count": 48,
   "metadata": {
    "ExecuteTime": {
     "end_time": "2019-04-12T01:50:25.752393Z",
     "start_time": "2019-04-12T01:46:25.446998Z"
    }
   },
   "outputs": [
    {
     "name": "stdout",
     "output_type": "stream",
     "text": [
      "num topics: 6 , passes: 25 : 0.48777\n",
      "num topics: 4 , passes: 25 : 0.48422\n",
      "num topics: 8 , passes: 20 : 0.47927\n",
      "num topics: 3 , passes: 25 : 0.43387\n",
      "num topics: 4 , passes: 15 : 0.43359\n",
      "num topics: 8 , passes: 25 : 0.49326\n",
      "num topics: 5 , passes: 20 : 0.49687\n",
      "num topics: 6 , passes: 20 : 0.48972\n",
      "num topics: 4 , passes: 20 : 0.46966\n",
      "num topics: 6 , passes: 15 : 0.48026\n",
      "num topics: 8 , passes: 15 : 0.47088\n",
      "num topics: 5 , passes: 25 : 0.50537\n",
      "num topics: 7 , passes: 20 : 0.47495\n",
      "num topics: 7 , passes: 25 : 0.49342\n",
      "num topics: 3 , passes: 15 : 0.42102\n"
     ]
    }
   ],
   "source": [
    "while len(done) < len(list_num_topics) * len(list_passes) * 0.8:\n",
    "    topics_index = random.choice(range(len(list_num_topics)))\n",
    "    passes_index = random.choice(range(len(list_passes)))\n",
    "    num_topics = list_num_topics[topics_index]\n",
    "    passes = list_passes[passes_index]\n",
    "    tup = (num_topics, passes)\n",
    "    if tup in done:\n",
    "        continue\n",
    "    coherence = 0\n",
    "    num_tries = 1\n",
    "    for i in range(num_tries):\n",
    "        lda_model = gensim.models.ldamulticore.LdaMulticore(corpus=corpus,\n",
    "                                                            id2word=dictionary,\n",
    "                                                            num_topics=num_topics, \n",
    "                                                            random_state=i,\n",
    "                                                            chunksize=500,\n",
    "                                                            passes=passes,\n",
    "                                                            workers=7,\n",
    "                                                            per_word_topics=True)\n",
    "        cm = CoherenceModel(model=lda_model, texts=tokens, dictionary=dictionary, coherence='c_v')\n",
    "        coherence += cm.get_coherence()\n",
    "    done.add(tup)\n",
    "    coherence = round(coherence / num_tries, 5)\n",
    "    print(\"num topics:\", num_topics, \", passes:\", passes, \":\", coherence)\n",
    "    results[passes_index][topics_index] = coherence"
   ]
  },
  {
   "cell_type": "code",
   "execution_count": 49,
   "metadata": {
    "ExecuteTime": {
     "end_time": "2019-04-12T01:50:25.759374Z",
     "start_time": "2019-04-12T01:50:25.753391Z"
    }
   },
   "outputs": [
    {
     "data": {
      "text/markdown": [
       "## In-N-Out Burger"
      ],
      "text/plain": [
       "<IPython.core.display.Markdown object>"
      ]
     },
     "metadata": {},
     "output_type": "display_data"
    },
    {
     "data": {
      "text/html": [
       "<table>\n",
       "<thead>\n",
       "<tr><th>3 topics  </th><th style=\"text-align: right;\">  4 topics</th><th>5 topics  </th><th style=\"text-align: right;\">  6 topics</th><th>7 topics  </th><th style=\"text-align: right;\">  8 topics</th></tr>\n",
       "</thead>\n",
       "<tbody>\n",
       "<tr><td>0.42102   </td><td style=\"text-align: right;\">   0.43359</td><td>          </td><td style=\"text-align: right;\">   0.48026</td><td>          </td><td style=\"text-align: right;\">   0.47088</td></tr>\n",
       "<tr><td>          </td><td style=\"text-align: right;\">   0.46966</td><td>0.49687   </td><td style=\"text-align: right;\">   0.48972</td><td>0.47495   </td><td style=\"text-align: right;\">   0.47927</td></tr>\n",
       "<tr><td>0.43387   </td><td style=\"text-align: right;\">   0.48422</td><td>0.50537   </td><td style=\"text-align: right;\">   0.48777</td><td>0.49342   </td><td style=\"text-align: right;\">   0.49326</td></tr>\n",
       "</tbody>\n",
       "</table>"
      ],
      "text/plain": [
       "<IPython.core.display.HTML object>"
      ]
     },
     "metadata": {},
     "output_type": "display_data"
    }
   ],
   "source": [
    "display(Markdown(\"## \" + business_name))\n",
    "display(HTML(tabulate(results, tablefmt='html', headers=[str(x) + ' topics' for x in list_num_topics])))"
   ]
  },
  {
   "cell_type": "markdown",
   "metadata": {},
   "source": [
    "# Display Model Topics"
   ]
  },
  {
   "cell_type": "code",
   "execution_count": 20,
   "metadata": {
    "ExecuteTime": {
     "end_time": "2019-04-12T01:28:51.439095Z",
     "start_time": "2019-04-12T01:28:51.436075Z"
    }
   },
   "outputs": [],
   "source": [
    "import re"
   ]
  },
  {
   "cell_type": "code",
   "execution_count": 33,
   "metadata": {
    "ExecuteTime": {
     "end_time": "2019-04-12T01:35:34.738376Z",
     "start_time": "2019-04-12T01:35:01.905005Z"
    },
    "scrolled": false
   },
   "outputs": [
    {
     "data": {
      "text/markdown": [
       "# The Cheesecake Factory: 20 passes, 3 topics"
      ],
      "text/plain": [
       "<IPython.core.display.Markdown object>"
      ]
     },
     "metadata": {},
     "output_type": "display_data"
    },
    {
     "data": {
      "text/html": [
       "<table>\n",
       "<thead>\n",
       "<tr><th>Term 1  </th><th>Term 2  </th><th>Term 3  </th><th>Term 4  </th><th>Term 5  </th><th>Term 6  </th><th>Term 7  </th><th>Term 8  </th><th>Term 9  </th><th>Term 10  </th></tr>\n",
       "</thead>\n",
       "<tbody>\n",
       "<tr><td>order   </td><td>wait    </td><td>time    </td><td>minut   </td><td>ask     </td><td>tabl    </td><td>came    </td><td>server  </td><td>manag   </td><td>servic   </td></tr>\n",
       "<tr><td>great   </td><td>good    </td><td>servic  </td><td>factori </td><td>menu    </td><td>time    </td><td>place   </td><td>restaur </td><td>wait    </td><td>locat    </td></tr>\n",
       "<tr><td>chicken </td><td>good    </td><td>order   </td><td>salad   </td><td>like    </td><td>chees   </td><td>pasta   </td><td>factori </td><td>sauc    </td><td>fri      </td></tr>\n",
       "</tbody>\n",
       "</table>"
      ],
      "text/plain": [
       "<IPython.core.display.HTML object>"
      ]
     },
     "metadata": {},
     "output_type": "display_data"
    },
    {
     "data": {
      "text/markdown": [
       "# The Cheesecake Factory: 20 passes, 5 topics"
      ],
      "text/plain": [
       "<IPython.core.display.Markdown object>"
      ]
     },
     "metadata": {},
     "output_type": "display_data"
    },
    {
     "data": {
      "text/html": [
       "<table>\n",
       "<thead>\n",
       "<tr><th>Term 1  </th><th>Term 2  </th><th>Term 3  </th><th>Term 4  </th><th>Term 5  </th><th>Term 6  </th><th>Term 7  </th><th>Term 8  </th><th>Term 9  </th><th>Term 10  </th></tr>\n",
       "</thead>\n",
       "<tbody>\n",
       "<tr><td>great   </td><td>servic  </td><td>good    </td><td>place   </td><td>factori </td><td>time    </td><td>wait    </td><td>locat   </td><td>like    </td><td>restaur  </td></tr>\n",
       "<tr><td>menu    </td><td>factori </td><td>good    </td><td>restaur </td><td>time    </td><td>love    </td><td>great   </td><td>like    </td><td>order   </td><td>servic   </td></tr>\n",
       "<tr><td>chicken </td><td>good    </td><td>order   </td><td>salad   </td><td>chees   </td><td>like    </td><td>pasta   </td><td>fri     </td><td>sauc    </td><td>factori  </td></tr>\n",
       "<tr><td>order   </td><td>time    </td><td>server  </td><td>manag   </td><td>ask     </td><td>servic  </td><td>came    </td><td>factori </td><td>locat   </td><td>like     </td></tr>\n",
       "<tr><td>wait    </td><td>minut   </td><td>tabl    </td><td>time    </td><td>order   </td><td>seat    </td><td>ask     </td><td>came    </td><td>hour    </td><td>server   </td></tr>\n",
       "</tbody>\n",
       "</table>"
      ],
      "text/plain": [
       "<IPython.core.display.HTML object>"
      ]
     },
     "metadata": {},
     "output_type": "display_data"
    },
    {
     "data": {
      "text/markdown": [
       "# The Cheesecake Factory: 20 passes, 8 topics"
      ],
      "text/plain": [
       "<IPython.core.display.Markdown object>"
      ]
     },
     "metadata": {},
     "output_type": "display_data"
    },
    {
     "data": {
      "text/html": [
       "<table>\n",
       "<thead>\n",
       "<tr><th>Term 1  </th><th>Term 2  </th><th>Term 3  </th><th>Term 4  </th><th>Term 5  </th><th>Term 6  </th><th>Term 7  </th><th>Term 8  </th><th>Term 9  </th><th>Term 10  </th></tr>\n",
       "</thead>\n",
       "<tbody>\n",
       "<tr><td>great   </td><td>servic  </td><td>good    </td><td>place   </td><td>factori </td><td>amaz    </td><td>love    </td><td>best    </td><td>like    </td><td>experi   </td></tr>\n",
       "<tr><td>menu    </td><td>factori </td><td>good    </td><td>restaur </td><td>great   </td><td>love    </td><td>time    </td><td>servic  </td><td>locat   </td><td>like     </td></tr>\n",
       "<tr><td>chicken </td><td>good    </td><td>order   </td><td>pasta   </td><td>salad   </td><td>love    </td><td>sauc    </td><td>great   </td><td>dish    </td><td>factori  </td></tr>\n",
       "<tr><td>order   </td><td>time    </td><td>server  </td><td>locat   </td><td>servic  </td><td>manag   </td><td>ask     </td><td>factori </td><td>came    </td><td>drink    </td></tr>\n",
       "<tr><td>tabl    </td><td>wait    </td><td>ask     </td><td>minut   </td><td>came    </td><td>manag   </td><td>order   </td><td>said    </td><td>server  </td><td>time     </td></tr>\n",
       "<tr><td>order   </td><td>good    </td><td>cake    </td><td>chocol  </td><td>like    </td><td>got     </td><td>pasta   </td><td>bread   </td><td>slice   </td><td>time     </td></tr>\n",
       "<tr><td>order   </td><td>like    </td><td>good    </td><td>salad   </td><td>burger  </td><td>fri     </td><td>chicken </td><td>steak   </td><td>got     </td><td>meal     </td></tr>\n",
       "<tr><td>wait    </td><td>time    </td><td>hour    </td><td>long    </td><td>minut   </td><td>good    </td><td>order   </td><td>seat    </td><td>servic  </td><td>place    </td></tr>\n",
       "</tbody>\n",
       "</table>"
      ],
      "text/plain": [
       "<IPython.core.display.HTML object>"
      ]
     },
     "metadata": {},
     "output_type": "display_data"
    }
   ],
   "source": [
    "for num_topics, num_passes in [(3, 20), (5, 20), (8, 20)]:\n",
    "    lda_model = gensim.models.ldamulticore.LdaMulticore(corpus=corpus,\n",
    "                                                        id2word=dictionary,\n",
    "                                                        num_topics=num_topics, \n",
    "                                                        random_state=1,\n",
    "                                                        chunksize=500,\n",
    "                                                        passes=num_passes,\n",
    "                                                        workers=7,\n",
    "                                                        per_word_topics=True)\n",
    "\n",
    "    results = []\n",
    "    for _, text in lda_model.print_topics():\n",
    "        results.append([re.findall('[a-z]+', x)[0] for x in text.split(' + ')])\n",
    "    display(Markdown(\"# \" + business_name + \": \" + str(num_passes) + \" passes, \" + str(num_topics) + \" topics\"))\n",
    "    display(HTML(tabulate(results, tablefmt=\"html\", headers=[\"Term \" + str(x) for x in range(1, 11)])))"
   ]
  }
 ],
 "metadata": {
  "kernelspec": {
   "display_name": "Python 3",
   "language": "python",
   "name": "python3"
  },
  "language_info": {
   "codemirror_mode": {
    "name": "ipython",
    "version": 3
   },
   "file_extension": ".py",
   "mimetype": "text/x-python",
   "name": "python",
   "nbconvert_exporter": "python",
   "pygments_lexer": "ipython3",
   "version": "3.6.6"
  },
  "toc": {
   "base_numbering": 1,
   "nav_menu": {},
   "number_sections": true,
   "sideBar": true,
   "skip_h1_title": false,
   "title_cell": "Table of Contents",
   "title_sidebar": "Contents",
   "toc_cell": false,
   "toc_position": {},
   "toc_section_display": true,
   "toc_window_display": false
  }
 },
 "nbformat": 4,
 "nbformat_minor": 2
}
